{
  "nbformat": 4,
  "nbformat_minor": 0,
  "metadata": {
    "colab": {
      "provenance": [],
      "authorship_tag": "ABX9TyMWcSD3PEPNva9EyVJb7b/p",
      "include_colab_link": true
    },
    "kernelspec": {
      "name": "python3",
      "display_name": "Python 3"
    },
    "language_info": {
      "name": "python"
    }
  },
  "cells": [
    {
      "cell_type": "markdown",
      "metadata": {
        "id": "view-in-github",
        "colab_type": "text"
      },
      "source": [
        "<a href=\"https://colab.research.google.com/github/Debapriya-Mondal/Churn-Prediction/blob/main/gradients_numpy.ipynb\" target=\"_parent\"><img src=\"https://colab.research.google.com/assets/colab-badge.svg\" alt=\"Open In Colab\"/></a>"
      ]
    },
    {
      "cell_type": "markdown",
      "source": [
        "This code sample is copied from https://www.youtube.com/@patloeber pytorch tutorial\n"
      ],
      "metadata": {
        "id": "aNDDM3Xish8_"
      }
    },
    {
      "cell_type": "code",
      "source": [
        "import numpy as np"
      ],
      "metadata": {
        "id": "RWZZFHaxszpc"
      },
      "execution_count": 1,
      "outputs": []
    },
    {
      "cell_type": "code",
      "source": [
        "# f = w * x\n",
        "# f = 2 * x\n",
        "\n",
        "X = np.array([1, 2, 3, 4, 5, 6, 7, 8, 9], dtype=np.float32)\n",
        "Y = np.array([2, 4, 6, 8, 10, 12, 14, 16, 18], dtype=np.float32)\n",
        "w = 0.0"
      ],
      "metadata": {
        "id": "jgrmEjXMtH1M"
      },
      "execution_count": 35,
      "outputs": []
    },
    {
      "cell_type": "code",
      "source": [
        "# model prediction\n",
        "def forward(x):\n",
        "  return w*x"
      ],
      "metadata": {
        "id": "Gp5acBuSu2i6"
      },
      "execution_count": 36,
      "outputs": []
    },
    {
      "cell_type": "code",
      "source": [
        "# loss calculation\n",
        "def loss(y, y_predicted):\n",
        "  return ((y-y_predicted)**2).mean()"
      ],
      "metadata": {
        "id": "PpDTqv3hvBMt"
      },
      "execution_count": 37,
      "outputs": []
    },
    {
      "cell_type": "code",
      "source": [
        "# gradient calculation\n",
        "# MSE = 1/N * (w*x - y)**2\n",
        "#dJ/dw = 1/N * 2x*(w*x-y)\n",
        "def gradient(x, y, y_predicted):\n",
        "  return np.dot(2*x, y_predicted-y).mean()"
      ],
      "metadata": {
        "id": "FsFSQIegvKDq"
      },
      "execution_count": 38,
      "outputs": []
    },
    {
      "cell_type": "code",
      "source": [
        "print(f\"Prediction before training f(5) = {forward(15):.3f}\")"
      ],
      "metadata": {
        "colab": {
          "base_uri": "https://localhost:8080/"
        },
        "id": "FWvP2byyvNuX",
        "outputId": "68e9f0d7-4914-4607-b15b-48b24c7ddcf3"
      },
      "execution_count": 39,
      "outputs": [
        {
          "output_type": "stream",
          "name": "stdout",
          "text": [
            "Prediction before training f(5) = 0.000\n"
          ]
        }
      ]
    },
    {
      "cell_type": "code",
      "source": [
        "# training\n",
        "learning_rate = 0.001\n",
        "n_iters = 10\n",
        "\n",
        "for epoch in range(n_iters):\n",
        "  # prediction = forward pass\n",
        "  y_pred = forward(X)\n",
        "\n",
        "  # loss calculation\n",
        "  l = loss(Y, y_pred)\n",
        "\n",
        "  # gradient calculation\n",
        "  dw = gradient(X, Y, y_pred)\n",
        "\n",
        "  # update weight\n",
        "  w -= learning_rate*dw\n",
        "\n",
        "  if epoch % 1 == 0:\n",
        "    print(f\"epoch: {epoch} weight: {w:.3f} loss: {l:.3f}\")\n"
      ],
      "metadata": {
        "colab": {
          "base_uri": "https://localhost:8080/"
        },
        "id": "IZLi_cb7w2Rg",
        "outputId": "9d2470d2-95b8-44f0-8afc-46eb4bbc3eb7"
      },
      "execution_count": 40,
      "outputs": [
        {
          "output_type": "stream",
          "name": "stdout",
          "text": [
            "epoch: 0 weight: 1.140 loss: 126.667\n",
            "epoch: 1 weight: 1.630 loss: 23.421\n",
            "epoch: 2 weight: 1.841 loss: 4.330\n",
            "epoch: 3 weight: 1.932 loss: 0.801\n",
            "epoch: 4 weight: 1.971 loss: 0.148\n",
            "epoch: 5 weight: 1.987 loss: 0.027\n",
            "epoch: 6 weight: 1.995 loss: 0.005\n",
            "epoch: 7 weight: 1.998 loss: 0.001\n",
            "epoch: 8 weight: 1.999 loss: 0.000\n",
            "epoch: 9 weight: 2.000 loss: 0.000\n"
          ]
        }
      ]
    },
    {
      "cell_type": "code",
      "source": [
        "print(f\"Prediction before training f(5) = {forward(15):.3f}\")"
      ],
      "metadata": {
        "colab": {
          "base_uri": "https://localhost:8080/"
        },
        "id": "zRnnahd3zF1K",
        "outputId": "b59f6ead-d81b-4259-ad26-c0ee6631a35d"
      },
      "execution_count": 41,
      "outputs": [
        {
          "output_type": "stream",
          "name": "stdout",
          "text": [
            "Prediction before training f(5) = 29.994\n"
          ]
        }
      ]
    },
    {
      "cell_type": "code",
      "source": [],
      "metadata": {
        "id": "ctlI6LQw0IK7"
      },
      "execution_count": null,
      "outputs": []
    }
  ]
}