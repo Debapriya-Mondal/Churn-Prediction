{
 "cells": [
  {
   "cell_type": "markdown",
   "metadata": {},
   "source": [
    "# Library import"
   ]
  },
  {
   "cell_type": "code",
   "execution_count": 153,
   "metadata": {},
   "outputs": [],
   "source": [
    "import pandas as pd\n",
    "import numpy as np\n",
    "\n",
    "import matplotlib.pyplot as plt\n",
    "import seaborn as sns\n",
    "\n",
    "from sklearn.preprocessing import OneHotEncoder\n",
    "from sklearn.model_selection import train_test_split\n",
    "\n",
    "from sklearn.linear_model import LogisticRegression\n",
    "from sklearn.svm import SVC\n",
    "from sklearn.neighbors import KNeighborsClassifier\n",
    "from sklearn.tree import DecisionTreeClassifier\n",
    "from sklearn.ensemble import RandomForestClassifier\n",
    "from sklearn.naive_bayes import GaussianNB\n",
    "\n",
    "from sklearn.metrics import accuracy_score, roc_auc_score\n",
    "\n",
    "from sklearn.utils import resample\n",
    "%matplotlib inline"
   ]
  },
  {
   "cell_type": "code",
   "execution_count": 154,
   "metadata": {},
   "outputs": [],
   "source": [
    "pd.set_option(\"display.max_columns\",50)"
   ]
  },
  {
   "cell_type": "markdown",
   "metadata": {},
   "source": [
    "# Read dataset"
   ]
  },
  {
   "cell_type": "code",
   "execution_count": 155,
   "metadata": {},
   "outputs": [
    {
     "data": {
      "text/html": [
       "<div>\n",
       "<style scoped>\n",
       "    .dataframe tbody tr th:only-of-type {\n",
       "        vertical-align: middle;\n",
       "    }\n",
       "\n",
       "    .dataframe tbody tr th {\n",
       "        vertical-align: top;\n",
       "    }\n",
       "\n",
       "    .dataframe thead th {\n",
       "        text-align: right;\n",
       "    }\n",
       "</style>\n",
       "<table border=\"1\" class=\"dataframe\">\n",
       "  <thead>\n",
       "    <tr style=\"text-align: right;\">\n",
       "      <th></th>\n",
       "      <th>customer_id</th>\n",
       "      <th>vintage</th>\n",
       "      <th>age</th>\n",
       "      <th>gender</th>\n",
       "      <th>dependents</th>\n",
       "      <th>occupation</th>\n",
       "      <th>city</th>\n",
       "      <th>customer_nw_category</th>\n",
       "      <th>branch_code</th>\n",
       "      <th>days_since_last_transaction</th>\n",
       "      <th>current_balance</th>\n",
       "      <th>previous_month_end_balance</th>\n",
       "      <th>average_monthly_balance_prevQ</th>\n",
       "      <th>average_monthly_balance_prevQ2</th>\n",
       "      <th>current_month_credit</th>\n",
       "      <th>previous_month_credit</th>\n",
       "      <th>current_month_debit</th>\n",
       "      <th>previous_month_debit</th>\n",
       "      <th>current_month_balance</th>\n",
       "      <th>previous_month_balance</th>\n",
       "      <th>churn</th>\n",
       "    </tr>\n",
       "  </thead>\n",
       "  <tbody>\n",
       "    <tr>\n",
       "      <th>0</th>\n",
       "      <td>1</td>\n",
       "      <td>3135</td>\n",
       "      <td>66</td>\n",
       "      <td>Male</td>\n",
       "      <td>0.0</td>\n",
       "      <td>self_employed</td>\n",
       "      <td>187.0</td>\n",
       "      <td>2</td>\n",
       "      <td>755</td>\n",
       "      <td>224.0</td>\n",
       "      <td>1458.71</td>\n",
       "      <td>1458.71</td>\n",
       "      <td>1458.71</td>\n",
       "      <td>1449.07</td>\n",
       "      <td>0.20</td>\n",
       "      <td>0.20</td>\n",
       "      <td>0.20</td>\n",
       "      <td>0.20</td>\n",
       "      <td>1458.71</td>\n",
       "      <td>1458.71</td>\n",
       "      <td>0</td>\n",
       "    </tr>\n",
       "    <tr>\n",
       "      <th>1</th>\n",
       "      <td>2</td>\n",
       "      <td>310</td>\n",
       "      <td>35</td>\n",
       "      <td>Male</td>\n",
       "      <td>0.0</td>\n",
       "      <td>self_employed</td>\n",
       "      <td>NaN</td>\n",
       "      <td>2</td>\n",
       "      <td>3214</td>\n",
       "      <td>60.0</td>\n",
       "      <td>5390.37</td>\n",
       "      <td>8704.66</td>\n",
       "      <td>7799.26</td>\n",
       "      <td>12419.41</td>\n",
       "      <td>0.56</td>\n",
       "      <td>0.56</td>\n",
       "      <td>5486.27</td>\n",
       "      <td>100.56</td>\n",
       "      <td>6496.78</td>\n",
       "      <td>8787.61</td>\n",
       "      <td>0</td>\n",
       "    </tr>\n",
       "    <tr>\n",
       "      <th>2</th>\n",
       "      <td>4</td>\n",
       "      <td>2356</td>\n",
       "      <td>31</td>\n",
       "      <td>Male</td>\n",
       "      <td>0.0</td>\n",
       "      <td>salaried</td>\n",
       "      <td>146.0</td>\n",
       "      <td>2</td>\n",
       "      <td>41</td>\n",
       "      <td>NaN</td>\n",
       "      <td>3913.16</td>\n",
       "      <td>5815.29</td>\n",
       "      <td>4910.17</td>\n",
       "      <td>2815.94</td>\n",
       "      <td>0.61</td>\n",
       "      <td>0.61</td>\n",
       "      <td>6046.73</td>\n",
       "      <td>259.23</td>\n",
       "      <td>5006.28</td>\n",
       "      <td>5070.14</td>\n",
       "      <td>0</td>\n",
       "    </tr>\n",
       "    <tr>\n",
       "      <th>3</th>\n",
       "      <td>5</td>\n",
       "      <td>478</td>\n",
       "      <td>90</td>\n",
       "      <td>NaN</td>\n",
       "      <td>NaN</td>\n",
       "      <td>self_employed</td>\n",
       "      <td>1020.0</td>\n",
       "      <td>2</td>\n",
       "      <td>582</td>\n",
       "      <td>147.0</td>\n",
       "      <td>2291.91</td>\n",
       "      <td>2291.91</td>\n",
       "      <td>2084.54</td>\n",
       "      <td>1006.54</td>\n",
       "      <td>0.47</td>\n",
       "      <td>0.47</td>\n",
       "      <td>0.47</td>\n",
       "      <td>2143.33</td>\n",
       "      <td>2291.91</td>\n",
       "      <td>1669.79</td>\n",
       "      <td>1</td>\n",
       "    </tr>\n",
       "    <tr>\n",
       "      <th>4</th>\n",
       "      <td>6</td>\n",
       "      <td>2531</td>\n",
       "      <td>42</td>\n",
       "      <td>Male</td>\n",
       "      <td>2.0</td>\n",
       "      <td>self_employed</td>\n",
       "      <td>1494.0</td>\n",
       "      <td>3</td>\n",
       "      <td>388</td>\n",
       "      <td>58.0</td>\n",
       "      <td>927.72</td>\n",
       "      <td>1401.72</td>\n",
       "      <td>1643.31</td>\n",
       "      <td>1871.12</td>\n",
       "      <td>0.33</td>\n",
       "      <td>714.61</td>\n",
       "      <td>588.62</td>\n",
       "      <td>1538.06</td>\n",
       "      <td>1157.15</td>\n",
       "      <td>1677.16</td>\n",
       "      <td>1</td>\n",
       "    </tr>\n",
       "  </tbody>\n",
       "</table>\n",
       "</div>"
      ],
      "text/plain": [
       "   customer_id  vintage  age gender  dependents     occupation    city  \\\n",
       "0            1     3135   66   Male         0.0  self_employed   187.0   \n",
       "1            2      310   35   Male         0.0  self_employed     NaN   \n",
       "2            4     2356   31   Male         0.0       salaried   146.0   \n",
       "3            5      478   90    NaN         NaN  self_employed  1020.0   \n",
       "4            6     2531   42   Male         2.0  self_employed  1494.0   \n",
       "\n",
       "   customer_nw_category  branch_code  days_since_last_transaction  \\\n",
       "0                     2          755                        224.0   \n",
       "1                     2         3214                         60.0   \n",
       "2                     2           41                          NaN   \n",
       "3                     2          582                        147.0   \n",
       "4                     3          388                         58.0   \n",
       "\n",
       "   current_balance  previous_month_end_balance  average_monthly_balance_prevQ  \\\n",
       "0          1458.71                     1458.71                        1458.71   \n",
       "1          5390.37                     8704.66                        7799.26   \n",
       "2          3913.16                     5815.29                        4910.17   \n",
       "3          2291.91                     2291.91                        2084.54   \n",
       "4           927.72                     1401.72                        1643.31   \n",
       "\n",
       "   average_monthly_balance_prevQ2  current_month_credit  \\\n",
       "0                         1449.07                  0.20   \n",
       "1                        12419.41                  0.56   \n",
       "2                         2815.94                  0.61   \n",
       "3                         1006.54                  0.47   \n",
       "4                         1871.12                  0.33   \n",
       "\n",
       "   previous_month_credit  current_month_debit  previous_month_debit  \\\n",
       "0                   0.20                 0.20                  0.20   \n",
       "1                   0.56              5486.27                100.56   \n",
       "2                   0.61              6046.73                259.23   \n",
       "3                   0.47                 0.47               2143.33   \n",
       "4                 714.61               588.62               1538.06   \n",
       "\n",
       "   current_month_balance  previous_month_balance  churn  \n",
       "0                1458.71                 1458.71      0  \n",
       "1                6496.78                 8787.61      0  \n",
       "2                5006.28                 5070.14      0  \n",
       "3                2291.91                 1669.79      1  \n",
       "4                1157.15                 1677.16      1  "
      ]
     },
     "execution_count": 155,
     "metadata": {},
     "output_type": "execute_result"
    }
   ],
   "source": [
    "df = pd.read_csv('churn_prediction.csv')\n",
    "df.head()"
   ]
  },
  {
   "cell_type": "markdown",
   "metadata": {},
   "source": [
    "# Missing value analysis"
   ]
  },
  {
   "cell_type": "code",
   "execution_count": 156,
   "metadata": {},
   "outputs": [
    {
     "data": {
      "text/html": [
       "<div>\n",
       "<style scoped>\n",
       "    .dataframe tbody tr th:only-of-type {\n",
       "        vertical-align: middle;\n",
       "    }\n",
       "\n",
       "    .dataframe tbody tr th {\n",
       "        vertical-align: top;\n",
       "    }\n",
       "\n",
       "    .dataframe thead th {\n",
       "        text-align: right;\n",
       "    }\n",
       "</style>\n",
       "<table border=\"1\" class=\"dataframe\">\n",
       "  <thead>\n",
       "    <tr style=\"text-align: right;\">\n",
       "      <th></th>\n",
       "      <th>customer_id</th>\n",
       "      <th>vintage</th>\n",
       "      <th>age</th>\n",
       "      <th>dependents</th>\n",
       "      <th>city</th>\n",
       "      <th>customer_nw_category</th>\n",
       "      <th>branch_code</th>\n",
       "      <th>days_since_last_transaction</th>\n",
       "      <th>current_balance</th>\n",
       "      <th>previous_month_end_balance</th>\n",
       "      <th>average_monthly_balance_prevQ</th>\n",
       "      <th>average_monthly_balance_prevQ2</th>\n",
       "      <th>current_month_credit</th>\n",
       "      <th>previous_month_credit</th>\n",
       "      <th>current_month_debit</th>\n",
       "      <th>previous_month_debit</th>\n",
       "      <th>current_month_balance</th>\n",
       "      <th>previous_month_balance</th>\n",
       "      <th>churn</th>\n",
       "    </tr>\n",
       "  </thead>\n",
       "  <tbody>\n",
       "    <tr>\n",
       "      <th>count</th>\n",
       "      <td>28382.000000</td>\n",
       "      <td>28382.000000</td>\n",
       "      <td>28382.000000</td>\n",
       "      <td>25919.000000</td>\n",
       "      <td>27579.000000</td>\n",
       "      <td>28382.000000</td>\n",
       "      <td>28382.000000</td>\n",
       "      <td>25159.000000</td>\n",
       "      <td>2.838200e+04</td>\n",
       "      <td>2.838200e+04</td>\n",
       "      <td>2.838200e+04</td>\n",
       "      <td>2.838200e+04</td>\n",
       "      <td>2.838200e+04</td>\n",
       "      <td>2.838200e+04</td>\n",
       "      <td>2.838200e+04</td>\n",
       "      <td>2.838200e+04</td>\n",
       "      <td>2.838200e+04</td>\n",
       "      <td>2.838200e+04</td>\n",
       "      <td>28382.000000</td>\n",
       "    </tr>\n",
       "    <tr>\n",
       "      <th>mean</th>\n",
       "      <td>15143.508667</td>\n",
       "      <td>2364.336446</td>\n",
       "      <td>48.208336</td>\n",
       "      <td>0.347236</td>\n",
       "      <td>796.109576</td>\n",
       "      <td>2.225530</td>\n",
       "      <td>925.975019</td>\n",
       "      <td>69.997814</td>\n",
       "      <td>7.380552e+03</td>\n",
       "      <td>7.495771e+03</td>\n",
       "      <td>7.496780e+03</td>\n",
       "      <td>7.124209e+03</td>\n",
       "      <td>3.433252e+03</td>\n",
       "      <td>3.261694e+03</td>\n",
       "      <td>3.658745e+03</td>\n",
       "      <td>3.339761e+03</td>\n",
       "      <td>7.451133e+03</td>\n",
       "      <td>7.495177e+03</td>\n",
       "      <td>0.185329</td>\n",
       "    </tr>\n",
       "    <tr>\n",
       "      <th>std</th>\n",
       "      <td>8746.454456</td>\n",
       "      <td>1610.124506</td>\n",
       "      <td>17.807163</td>\n",
       "      <td>0.997661</td>\n",
       "      <td>432.872102</td>\n",
       "      <td>0.660443</td>\n",
       "      <td>937.799129</td>\n",
       "      <td>86.341098</td>\n",
       "      <td>4.259871e+04</td>\n",
       "      <td>4.252935e+04</td>\n",
       "      <td>4.172622e+04</td>\n",
       "      <td>4.457581e+04</td>\n",
       "      <td>7.707145e+04</td>\n",
       "      <td>2.968889e+04</td>\n",
       "      <td>5.198542e+04</td>\n",
       "      <td>2.430111e+04</td>\n",
       "      <td>4.203394e+04</td>\n",
       "      <td>4.243198e+04</td>\n",
       "      <td>0.388571</td>\n",
       "    </tr>\n",
       "    <tr>\n",
       "      <th>min</th>\n",
       "      <td>1.000000</td>\n",
       "      <td>180.000000</td>\n",
       "      <td>1.000000</td>\n",
       "      <td>0.000000</td>\n",
       "      <td>0.000000</td>\n",
       "      <td>1.000000</td>\n",
       "      <td>1.000000</td>\n",
       "      <td>0.000000</td>\n",
       "      <td>-5.503960e+03</td>\n",
       "      <td>-3.149570e+03</td>\n",
       "      <td>1.428690e+03</td>\n",
       "      <td>-1.650610e+04</td>\n",
       "      <td>1.000000e-02</td>\n",
       "      <td>1.000000e-02</td>\n",
       "      <td>1.000000e-02</td>\n",
       "      <td>1.000000e-02</td>\n",
       "      <td>-3.374180e+03</td>\n",
       "      <td>-5.171920e+03</td>\n",
       "      <td>0.000000</td>\n",
       "    </tr>\n",
       "    <tr>\n",
       "      <th>25%</th>\n",
       "      <td>7557.250000</td>\n",
       "      <td>1121.000000</td>\n",
       "      <td>36.000000</td>\n",
       "      <td>0.000000</td>\n",
       "      <td>409.000000</td>\n",
       "      <td>2.000000</td>\n",
       "      <td>176.000000</td>\n",
       "      <td>11.000000</td>\n",
       "      <td>1.784470e+03</td>\n",
       "      <td>1.906000e+03</td>\n",
       "      <td>2.180945e+03</td>\n",
       "      <td>1.832507e+03</td>\n",
       "      <td>3.100000e-01</td>\n",
       "      <td>3.300000e-01</td>\n",
       "      <td>4.100000e-01</td>\n",
       "      <td>4.100000e-01</td>\n",
       "      <td>1.996765e+03</td>\n",
       "      <td>2.074408e+03</td>\n",
       "      <td>0.000000</td>\n",
       "    </tr>\n",
       "    <tr>\n",
       "      <th>50%</th>\n",
       "      <td>15150.500000</td>\n",
       "      <td>2018.000000</td>\n",
       "      <td>46.000000</td>\n",
       "      <td>0.000000</td>\n",
       "      <td>834.000000</td>\n",
       "      <td>2.000000</td>\n",
       "      <td>572.000000</td>\n",
       "      <td>30.000000</td>\n",
       "      <td>3.281255e+03</td>\n",
       "      <td>3.379915e+03</td>\n",
       "      <td>3.542865e+03</td>\n",
       "      <td>3.359600e+03</td>\n",
       "      <td>6.100000e-01</td>\n",
       "      <td>6.300000e-01</td>\n",
       "      <td>9.193000e+01</td>\n",
       "      <td>1.099600e+02</td>\n",
       "      <td>3.447995e+03</td>\n",
       "      <td>3.465235e+03</td>\n",
       "      <td>0.000000</td>\n",
       "    </tr>\n",
       "    <tr>\n",
       "      <th>75%</th>\n",
       "      <td>22706.750000</td>\n",
       "      <td>3176.000000</td>\n",
       "      <td>60.000000</td>\n",
       "      <td>0.000000</td>\n",
       "      <td>1096.000000</td>\n",
       "      <td>3.000000</td>\n",
       "      <td>1440.000000</td>\n",
       "      <td>95.000000</td>\n",
       "      <td>6.635820e+03</td>\n",
       "      <td>6.656535e+03</td>\n",
       "      <td>6.666887e+03</td>\n",
       "      <td>6.517960e+03</td>\n",
       "      <td>7.072725e+02</td>\n",
       "      <td>7.492350e+02</td>\n",
       "      <td>1.360435e+03</td>\n",
       "      <td>1.357553e+03</td>\n",
       "      <td>6.667958e+03</td>\n",
       "      <td>6.654693e+03</td>\n",
       "      <td>0.000000</td>\n",
       "    </tr>\n",
       "    <tr>\n",
       "      <th>max</th>\n",
       "      <td>30301.000000</td>\n",
       "      <td>12899.000000</td>\n",
       "      <td>90.000000</td>\n",
       "      <td>52.000000</td>\n",
       "      <td>1649.000000</td>\n",
       "      <td>3.000000</td>\n",
       "      <td>4782.000000</td>\n",
       "      <td>365.000000</td>\n",
       "      <td>5.905904e+06</td>\n",
       "      <td>5.740439e+06</td>\n",
       "      <td>5.700290e+06</td>\n",
       "      <td>5.010170e+06</td>\n",
       "      <td>1.226985e+07</td>\n",
       "      <td>2.361808e+06</td>\n",
       "      <td>7.637857e+06</td>\n",
       "      <td>1.414168e+06</td>\n",
       "      <td>5.778185e+06</td>\n",
       "      <td>5.720144e+06</td>\n",
       "      <td>1.000000</td>\n",
       "    </tr>\n",
       "  </tbody>\n",
       "</table>\n",
       "</div>"
      ],
      "text/plain": [
       "        customer_id       vintage           age    dependents          city  \\\n",
       "count  28382.000000  28382.000000  28382.000000  25919.000000  27579.000000   \n",
       "mean   15143.508667   2364.336446     48.208336      0.347236    796.109576   \n",
       "std     8746.454456   1610.124506     17.807163      0.997661    432.872102   \n",
       "min        1.000000    180.000000      1.000000      0.000000      0.000000   \n",
       "25%     7557.250000   1121.000000     36.000000      0.000000    409.000000   \n",
       "50%    15150.500000   2018.000000     46.000000      0.000000    834.000000   \n",
       "75%    22706.750000   3176.000000     60.000000      0.000000   1096.000000   \n",
       "max    30301.000000  12899.000000     90.000000     52.000000   1649.000000   \n",
       "\n",
       "       customer_nw_category   branch_code  days_since_last_transaction  \\\n",
       "count          28382.000000  28382.000000                 25159.000000   \n",
       "mean               2.225530    925.975019                    69.997814   \n",
       "std                0.660443    937.799129                    86.341098   \n",
       "min                1.000000      1.000000                     0.000000   \n",
       "25%                2.000000    176.000000                    11.000000   \n",
       "50%                2.000000    572.000000                    30.000000   \n",
       "75%                3.000000   1440.000000                    95.000000   \n",
       "max                3.000000   4782.000000                   365.000000   \n",
       "\n",
       "       current_balance  previous_month_end_balance  \\\n",
       "count     2.838200e+04                2.838200e+04   \n",
       "mean      7.380552e+03                7.495771e+03   \n",
       "std       4.259871e+04                4.252935e+04   \n",
       "min      -5.503960e+03               -3.149570e+03   \n",
       "25%       1.784470e+03                1.906000e+03   \n",
       "50%       3.281255e+03                3.379915e+03   \n",
       "75%       6.635820e+03                6.656535e+03   \n",
       "max       5.905904e+06                5.740439e+06   \n",
       "\n",
       "       average_monthly_balance_prevQ  average_monthly_balance_prevQ2  \\\n",
       "count                   2.838200e+04                    2.838200e+04   \n",
       "mean                    7.496780e+03                    7.124209e+03   \n",
       "std                     4.172622e+04                    4.457581e+04   \n",
       "min                     1.428690e+03                   -1.650610e+04   \n",
       "25%                     2.180945e+03                    1.832507e+03   \n",
       "50%                     3.542865e+03                    3.359600e+03   \n",
       "75%                     6.666887e+03                    6.517960e+03   \n",
       "max                     5.700290e+06                    5.010170e+06   \n",
       "\n",
       "       current_month_credit  previous_month_credit  current_month_debit  \\\n",
       "count          2.838200e+04           2.838200e+04         2.838200e+04   \n",
       "mean           3.433252e+03           3.261694e+03         3.658745e+03   \n",
       "std            7.707145e+04           2.968889e+04         5.198542e+04   \n",
       "min            1.000000e-02           1.000000e-02         1.000000e-02   \n",
       "25%            3.100000e-01           3.300000e-01         4.100000e-01   \n",
       "50%            6.100000e-01           6.300000e-01         9.193000e+01   \n",
       "75%            7.072725e+02           7.492350e+02         1.360435e+03   \n",
       "max            1.226985e+07           2.361808e+06         7.637857e+06   \n",
       "\n",
       "       previous_month_debit  current_month_balance  previous_month_balance  \\\n",
       "count          2.838200e+04           2.838200e+04            2.838200e+04   \n",
       "mean           3.339761e+03           7.451133e+03            7.495177e+03   \n",
       "std            2.430111e+04           4.203394e+04            4.243198e+04   \n",
       "min            1.000000e-02          -3.374180e+03           -5.171920e+03   \n",
       "25%            4.100000e-01           1.996765e+03            2.074408e+03   \n",
       "50%            1.099600e+02           3.447995e+03            3.465235e+03   \n",
       "75%            1.357553e+03           6.667958e+03            6.654693e+03   \n",
       "max            1.414168e+06           5.778185e+06            5.720144e+06   \n",
       "\n",
       "              churn  \n",
       "count  28382.000000  \n",
       "mean       0.185329  \n",
       "std        0.388571  \n",
       "min        0.000000  \n",
       "25%        0.000000  \n",
       "50%        0.000000  \n",
       "75%        0.000000  \n",
       "max        1.000000  "
      ]
     },
     "execution_count": 156,
     "metadata": {},
     "output_type": "execute_result"
    }
   ],
   "source": [
    "df.describe()"
   ]
  },
  {
   "cell_type": "code",
   "execution_count": 157,
   "metadata": {},
   "outputs": [
    {
     "name": "stdout",
     "output_type": "stream",
     "text": [
      "<class 'pandas.core.frame.DataFrame'>\n",
      "RangeIndex: 28382 entries, 0 to 28381\n",
      "Data columns (total 21 columns):\n",
      " #   Column                          Non-Null Count  Dtype  \n",
      "---  ------                          --------------  -----  \n",
      " 0   customer_id                     28382 non-null  int64  \n",
      " 1   vintage                         28382 non-null  int64  \n",
      " 2   age                             28382 non-null  int64  \n",
      " 3   gender                          27857 non-null  object \n",
      " 4   dependents                      25919 non-null  float64\n",
      " 5   occupation                      28302 non-null  object \n",
      " 6   city                            27579 non-null  float64\n",
      " 7   customer_nw_category            28382 non-null  int64  \n",
      " 8   branch_code                     28382 non-null  int64  \n",
      " 9   days_since_last_transaction     25159 non-null  float64\n",
      " 10  current_balance                 28382 non-null  float64\n",
      " 11  previous_month_end_balance      28382 non-null  float64\n",
      " 12  average_monthly_balance_prevQ   28382 non-null  float64\n",
      " 13  average_monthly_balance_prevQ2  28382 non-null  float64\n",
      " 14  current_month_credit            28382 non-null  float64\n",
      " 15  previous_month_credit           28382 non-null  float64\n",
      " 16  current_month_debit             28382 non-null  float64\n",
      " 17  previous_month_debit            28382 non-null  float64\n",
      " 18  current_month_balance           28382 non-null  float64\n",
      " 19  previous_month_balance          28382 non-null  float64\n",
      " 20  churn                           28382 non-null  int64  \n",
      "dtypes: float64(13), int64(6), object(2)\n",
      "memory usage: 4.5+ MB\n"
     ]
    }
   ],
   "source": [
    "df.info()"
   ]
  },
  {
   "cell_type": "code",
   "execution_count": 158,
   "metadata": {},
   "outputs": [
    {
     "data": {
      "text/plain": [
       "customer_id                          0\n",
       "vintage                              0\n",
       "age                                  0\n",
       "gender                             525\n",
       "dependents                        2463\n",
       "occupation                          80\n",
       "city                               803\n",
       "customer_nw_category                 0\n",
       "branch_code                          0\n",
       "days_since_last_transaction       3223\n",
       "current_balance                      0\n",
       "previous_month_end_balance           0\n",
       "average_monthly_balance_prevQ        0\n",
       "average_monthly_balance_prevQ2       0\n",
       "current_month_credit                 0\n",
       "previous_month_credit                0\n",
       "current_month_debit                  0\n",
       "previous_month_debit                 0\n",
       "current_month_balance                0\n",
       "previous_month_balance               0\n",
       "churn                                0\n",
       "dtype: int64"
      ]
     },
     "execution_count": 158,
     "metadata": {},
     "output_type": "execute_result"
    }
   ],
   "source": [
    "df.isna().sum()"
   ]
  },
  {
   "cell_type": "code",
   "execution_count": 159,
   "metadata": {},
   "outputs": [],
   "source": [
    "df.dropna(inplace=True,axis=0)"
   ]
  },
  {
   "cell_type": "markdown",
   "metadata": {},
   "source": [
    "#### Above we can see gender, dependents, occupation, city, customer_nw_category, days_since_last_transaction have missing values "
   ]
  },
  {
   "cell_type": "code",
   "execution_count": 160,
   "metadata": {},
   "outputs": [],
   "source": [
    "df.dropna(subset=['gender'],inplace=True,axis=0)"
   ]
  },
  {
   "cell_type": "code",
   "execution_count": null,
   "metadata": {},
   "outputs": [],
   "source": []
  },
  {
   "cell_type": "code",
   "execution_count": 161,
   "metadata": {
    "scrolled": true
   },
   "outputs": [
    {
     "data": {
      "image/png": "[encoded data removed]",
      "text/plain": [
       "<Figure size 432x288 with 1 Axes>"
      ]
     },
     "metadata": {
      "needs_background": "light"
     },
     "output_type": "display_data"
    }
   ],
   "source": [
    "pd.value_counts(df['dependents']).plot(kind='bar')\n",
    "plt.show()"
   ]
  },
  {
   "cell_type": "markdown",
   "metadata": {},
   "source": [
    "### From the above bar plot we can see maximum number of values of dependents feature is 0. So we will replace missing value of dependent variable with 0"
   ]
  },
  {
   "cell_type": "code",
   "execution_count": 162,
   "metadata": {},
   "outputs": [],
   "source": [
    "df['dependents'].fillna(0,inplace=True)"
   ]
  },
  {
   "cell_type": "code",
   "execution_count": 163,
   "metadata": {},
   "outputs": [
    {
     "data": {
      "image/png": "[encoded data removed]",
      "text/plain": [
       "<Figure size 432x288 with 1 Axes>"
      ]
     },
     "metadata": {
      "needs_background": "light"
     },
     "output_type": "display_data"
    }
   ],
   "source": [
    "pd.value_counts(df['occupation']).plot(kind='bar')\n",
    "plt.show()"
   ]
  },
  {
   "cell_type": "markdown",
   "metadata": {},
   "source": [
    "### From the above bar plot we can see maximum number of values of occupation feature is self_employed. So we will replace missing value of dependent variable with self_employed"
   ]
  },
  {
   "cell_type": "code",
   "execution_count": 164,
   "metadata": {},
   "outputs": [],
   "source": [
    "df['occupation'].fillna('self_employeed',inplace=True)"
   ]
  },
  {
   "cell_type": "markdown",
   "metadata": {},
   "source": [
    "### In city feature we will replace missing value with median value"
   ]
  },
  {
   "cell_type": "code",
   "execution_count": 165,
   "metadata": {},
   "outputs": [],
   "source": [
    "df['city'].fillna(df['city'].median(),inplace=True)"
   ]
  },
  {
   "cell_type": "code",
   "execution_count": 166,
   "metadata": {},
   "outputs": [
    {
     "data": {
      "image/png": "[encoded data removed]",
      "text/plain": [
       "<Figure size 432x288 with 1 Axes>"
      ]
     },
     "metadata": {
      "needs_background": "light"
     },
     "output_type": "display_data"
    }
   ],
   "source": [
    "pd.value_counts(df['customer_nw_category']).plot(kind='bar')\n",
    "plt.show()"
   ]
  },
  {
   "cell_type": "markdown",
   "metadata": {},
   "source": [
    "### From the above bar plot we can see maximum number of values of customer_nw_category feature is 2. So we will replace missing value of customer_nw_category variable with 2"
   ]
  },
  {
   "cell_type": "code",
   "execution_count": 167,
   "metadata": {},
   "outputs": [],
   "source": [
    "df['customer_nw_category'].fillna(2,inplace=True)"
   ]
  },
  {
   "cell_type": "code",
   "execution_count": 168,
   "metadata": {},
   "outputs": [
    {
     "data": {
      "text/plain": [
       "0    224.0\n",
       "4     58.0\n",
       "5     60.0\n",
       "6     98.0\n",
       "7    172.0\n",
       "Name: days_since_last_transaction, dtype: float64"
      ]
     },
     "execution_count": 168,
     "metadata": {},
     "output_type": "execute_result"
    }
   ],
   "source": [
    "df['days_since_last_transaction'].head()"
   ]
  },
  {
   "cell_type": "code",
   "execution_count": 169,
   "metadata": {},
   "outputs": [
    {
     "data": {
      "text/plain": [
       "0    0.20\n",
       "4    0.33\n",
       "5    0.36\n",
       "6    0.64\n",
       "7    0.27\n",
       "Name: current_month_credit, dtype: float64"
      ]
     },
     "execution_count": 169,
     "metadata": {},
     "output_type": "execute_result"
    }
   ],
   "source": [
    "df['current_month_credit'].head()"
   ]
  },
  {
   "cell_type": "code",
   "execution_count": 170,
   "metadata": {},
   "outputs": [
    {
     "data": {
      "text/plain": [
       "0       0.20\n",
       "4     588.62\n",
       "5     857.50\n",
       "6    1299.64\n",
       "7     443.13\n",
       "Name: current_month_debit, dtype: float64"
      ]
     },
     "execution_count": 170,
     "metadata": {},
     "output_type": "execute_result"
    }
   ],
   "source": [
    "df['current_month_debit'].head()"
   ]
  },
  {
   "cell_type": "code",
   "execution_count": 171,
   "metadata": {},
   "outputs": [
    {
     "data": {
      "text/html": [
       "<div>\n",
       "<style scoped>\n",
       "    .dataframe tbody tr th:only-of-type {\n",
       "        vertical-align: middle;\n",
       "    }\n",
       "\n",
       "    .dataframe tbody tr th {\n",
       "        vertical-align: top;\n",
       "    }\n",
       "\n",
       "    .dataframe thead th {\n",
       "        text-align: right;\n",
       "    }\n",
       "</style>\n",
       "<table border=\"1\" class=\"dataframe\">\n",
       "  <thead>\n",
       "    <tr style=\"text-align: right;\">\n",
       "      <th></th>\n",
       "      <th>customer_id</th>\n",
       "      <th>vintage</th>\n",
       "      <th>age</th>\n",
       "      <th>gender</th>\n",
       "      <th>dependents</th>\n",
       "      <th>occupation</th>\n",
       "      <th>city</th>\n",
       "      <th>customer_nw_category</th>\n",
       "      <th>branch_code</th>\n",
       "      <th>days_since_last_transaction</th>\n",
       "      <th>current_balance</th>\n",
       "      <th>previous_month_end_balance</th>\n",
       "      <th>average_monthly_balance_prevQ</th>\n",
       "      <th>average_monthly_balance_prevQ2</th>\n",
       "      <th>current_month_credit</th>\n",
       "      <th>previous_month_credit</th>\n",
       "      <th>current_month_debit</th>\n",
       "      <th>previous_month_debit</th>\n",
       "      <th>current_month_balance</th>\n",
       "      <th>previous_month_balance</th>\n",
       "      <th>churn</th>\n",
       "    </tr>\n",
       "  </thead>\n",
       "  <tbody>\n",
       "  </tbody>\n",
       "</table>\n",
       "</div>"
      ],
      "text/plain": [
       "Empty DataFrame\n",
       "Columns: [customer_id, vintage, age, gender, dependents, occupation, city, customer_nw_category, branch_code, days_since_last_transaction, current_balance, previous_month_end_balance, average_monthly_balance_prevQ, average_monthly_balance_prevQ2, current_month_credit, previous_month_credit, current_month_debit, previous_month_debit, current_month_balance, previous_month_balance, churn]\n",
       "Index: []"
      ]
     },
     "execution_count": 171,
     "metadata": {},
     "output_type": "execute_result"
    }
   ],
   "source": [
    "df[df['days_since_last_transaction']==np.nan]"
   ]
  },
  {
   "cell_type": "code",
   "execution_count": 172,
   "metadata": {},
   "outputs": [
    {
     "data": {
      "text/plain": [
       "0        224.0\n",
       "4         58.0\n",
       "5         60.0\n",
       "6         98.0\n",
       "7        172.0\n",
       "         ...  \n",
       "28375     57.0\n",
       "28377     70.0\n",
       "28378     14.0\n",
       "28379      0.0\n",
       "28381     59.0\n",
       "Name: days_since_last_transaction, Length: 22067, dtype: float64"
      ]
     },
     "execution_count": 172,
     "metadata": {},
     "output_type": "execute_result"
    }
   ],
   "source": [
    "df['days_since_last_transaction']"
   ]
  },
  {
   "cell_type": "code",
   "execution_count": 173,
   "metadata": {},
   "outputs": [
    {
     "data": {
      "text/html": [
       "<div>\n",
       "<style scoped>\n",
       "    .dataframe tbody tr th:only-of-type {\n",
       "        vertical-align: middle;\n",
       "    }\n",
       "\n",
       "    .dataframe tbody tr th {\n",
       "        vertical-align: top;\n",
       "    }\n",
       "\n",
       "    .dataframe thead th {\n",
       "        text-align: right;\n",
       "    }\n",
       "</style>\n",
       "<table border=\"1\" class=\"dataframe\">\n",
       "  <thead>\n",
       "    <tr style=\"text-align: right;\">\n",
       "      <th></th>\n",
       "      <th>customer_id</th>\n",
       "      <th>vintage</th>\n",
       "      <th>age</th>\n",
       "      <th>gender</th>\n",
       "      <th>dependents</th>\n",
       "      <th>occupation</th>\n",
       "      <th>city</th>\n",
       "      <th>customer_nw_category</th>\n",
       "      <th>branch_code</th>\n",
       "      <th>days_since_last_transaction</th>\n",
       "      <th>current_balance</th>\n",
       "      <th>previous_month_end_balance</th>\n",
       "      <th>average_monthly_balance_prevQ</th>\n",
       "      <th>average_monthly_balance_prevQ2</th>\n",
       "      <th>current_month_credit</th>\n",
       "      <th>previous_month_credit</th>\n",
       "      <th>current_month_debit</th>\n",
       "      <th>previous_month_debit</th>\n",
       "      <th>current_month_balance</th>\n",
       "      <th>previous_month_balance</th>\n",
       "      <th>churn</th>\n",
       "    </tr>\n",
       "  </thead>\n",
       "  <tbody>\n",
       "  </tbody>\n",
       "</table>\n",
       "</div>"
      ],
      "text/plain": [
       "Empty DataFrame\n",
       "Columns: [customer_id, vintage, age, gender, dependents, occupation, city, customer_nw_category, branch_code, days_since_last_transaction, current_balance, previous_month_end_balance, average_monthly_balance_prevQ, average_monthly_balance_prevQ2, current_month_credit, previous_month_credit, current_month_debit, previous_month_debit, current_month_balance, previous_month_balance, churn]\n",
       "Index: []"
      ]
     },
     "execution_count": 173,
     "metadata": {},
     "output_type": "execute_result"
    }
   ],
   "source": [
    "df[df['days_since_last_transaction'].isnull()]"
   ]
  },
  {
   "cell_type": "code",
   "execution_count": 174,
   "metadata": {},
   "outputs": [
    {
     "data": {
      "text/plain": [
       "0.0      1541\n",
       "3.0       777\n",
       "14.0      595\n",
       "4.0       577\n",
       "6.0       528\n",
       "         ... \n",
       "309.0       1\n",
       "92.0        1\n",
       "170.0       1\n",
       "288.0       1\n",
       "134.0       1\n",
       "Name: days_since_last_transaction, Length: 357, dtype: int64"
      ]
     },
     "execution_count": 174,
     "metadata": {},
     "output_type": "execute_result"
    }
   ],
   "source": [
    "pd.value_counts(df['days_since_last_transaction'])"
   ]
  },
  {
   "cell_type": "markdown",
   "metadata": {},
   "source": [
    "### From the above data we can see maximum number of values of days_since_last_transaction feature is 0. So we will replace missing value of days_since_last_transaction variable with 0"
   ]
  },
  {
   "cell_type": "code",
   "execution_count": 175,
   "metadata": {},
   "outputs": [],
   "source": [
    "df['days_since_last_transaction'].fillna(0,inplace=True)"
   ]
  },
  {
   "cell_type": "code",
   "execution_count": 176,
   "metadata": {
    "scrolled": false
   },
   "outputs": [
    {
     "name": "stdout",
     "output_type": "stream",
     "text": [
      "<class 'pandas.core.frame.DataFrame'>\n",
      "Int64Index: 22067 entries, 0 to 28381\n",
      "Data columns (total 21 columns):\n",
      " #   Column                          Non-Null Count  Dtype  \n",
      "---  ------                          --------------  -----  \n",
      " 0   customer_id                     22067 non-null  int64  \n",
      " 1   vintage                         22067 non-null  int64  \n",
      " 2   age                             22067 non-null  int64  \n",
      " 3   gender                          22067 non-null  object \n",
      " 4   dependents                      22067 non-null  float64\n",
      " 5   occupation                      22067 non-null  object \n",
      " 6   city                            22067 non-null  float64\n",
      " 7   customer_nw_category            22067 non-null  int64  \n",
      " 8   branch_code                     22067 non-null  int64  \n",
      " 9   days_since_last_transaction     22067 non-null  float64\n",
      " 10  current_balance                 22067 non-null  float64\n",
      " 11  previous_month_end_balance      22067 non-null  float64\n",
      " 12  average_monthly_balance_prevQ   22067 non-null  float64\n",
      " 13  average_monthly_balance_prevQ2  22067 non-null  float64\n",
      " 14  current_month_credit            22067 non-null  float64\n",
      " 15  previous_month_credit           22067 non-null  float64\n",
      " 16  current_month_debit             22067 non-null  float64\n",
      " 17  previous_month_debit            22067 non-null  float64\n",
      " 18  current_month_balance           22067 non-null  float64\n",
      " 19  previous_month_balance          22067 non-null  float64\n",
      " 20  churn                           22067 non-null  int64  \n",
      "dtypes: float64(13), int64(6), object(2)\n",
      "memory usage: 3.7+ MB\n"
     ]
    }
   ],
   "source": [
    "df.info()"
   ]
  },
  {
   "cell_type": "code",
   "execution_count": 177,
   "metadata": {},
   "outputs": [],
   "source": [
    "df.reset_index(inplace=True)"
   ]
  },
  {
   "cell_type": "code",
   "execution_count": 178,
   "metadata": {},
   "outputs": [
    {
     "name": "stdout",
     "output_type": "stream",
     "text": [
      "<class 'pandas.core.frame.DataFrame'>\n",
      "RangeIndex: 22067 entries, 0 to 22066\n",
      "Data columns (total 22 columns):\n",
      " #   Column                          Non-Null Count  Dtype  \n",
      "---  ------                          --------------  -----  \n",
      " 0   index                           22067 non-null  int64  \n",
      " 1   customer_id                     22067 non-null  int64  \n",
      " 2   vintage                         22067 non-null  int64  \n",
      " 3   age                             22067 non-null  int64  \n",
      " 4   gender                          22067 non-null  object \n",
      " 5   dependents                      22067 non-null  float64\n",
      " 6   occupation                      22067 non-null  object \n",
      " 7   city                            22067 non-null  float64\n",
      " 8   customer_nw_category            22067 non-null  int64  \n",
      " 9   branch_code                     22067 non-null  int64  \n",
      " 10  days_since_last_transaction     22067 non-null  float64\n",
      " 11  current_balance                 22067 non-null  float64\n",
      " 12  previous_month_end_balance      22067 non-null  float64\n",
      " 13  average_monthly_balance_prevQ   22067 non-null  float64\n",
      " 14  average_monthly_balance_prevQ2  22067 non-null  float64\n",
      " 15  current_month_credit            22067 non-null  float64\n",
      " 16  previous_month_credit           22067 non-null  float64\n",
      " 17  current_month_debit             22067 non-null  float64\n",
      " 18  previous_month_debit            22067 non-null  float64\n",
      " 19  current_month_balance           22067 non-null  float64\n",
      " 20  previous_month_balance          22067 non-null  float64\n",
      " 21  churn                           22067 non-null  int64  \n",
      "dtypes: float64(13), int64(7), object(2)\n",
      "memory usage: 3.7+ MB\n"
     ]
    }
   ],
   "source": [
    "df.info()"
   ]
  },
  {
   "cell_type": "code",
   "execution_count": 179,
   "metadata": {},
   "outputs": [
    {
     "data": {
      "text/html": [
       "<div>\n",
       "<style scoped>\n",
       "    .dataframe tbody tr th:only-of-type {\n",
       "        vertical-align: middle;\n",
       "    }\n",
       "\n",
       "    .dataframe tbody tr th {\n",
       "        vertical-align: top;\n",
       "    }\n",
       "\n",
       "    .dataframe thead th {\n",
       "        text-align: right;\n",
       "    }\n",
       "</style>\n",
       "<table border=\"1\" class=\"dataframe\">\n",
       "  <thead>\n",
       "    <tr style=\"text-align: right;\">\n",
       "      <th></th>\n",
       "      <th>index</th>\n",
       "      <th>customer_id</th>\n",
       "      <th>vintage</th>\n",
       "      <th>age</th>\n",
       "      <th>dependents</th>\n",
       "      <th>city</th>\n",
       "      <th>customer_nw_category</th>\n",
       "      <th>branch_code</th>\n",
       "      <th>days_since_last_transaction</th>\n",
       "      <th>current_balance</th>\n",
       "      <th>previous_month_end_balance</th>\n",
       "      <th>average_monthly_balance_prevQ</th>\n",
       "      <th>average_monthly_balance_prevQ2</th>\n",
       "      <th>current_month_credit</th>\n",
       "      <th>previous_month_credit</th>\n",
       "      <th>current_month_debit</th>\n",
       "      <th>previous_month_debit</th>\n",
       "      <th>current_month_balance</th>\n",
       "      <th>previous_month_balance</th>\n",
       "      <th>churn</th>\n",
       "    </tr>\n",
       "  </thead>\n",
       "  <tbody>\n",
       "    <tr>\n",
       "      <th>count</th>\n",
       "      <td>22067.000000</td>\n",
       "      <td>22067.000000</td>\n",
       "      <td>22067.000000</td>\n",
       "      <td>22067.000000</td>\n",
       "      <td>22067.000000</td>\n",
       "      <td>22067.000000</td>\n",
       "      <td>22067.000000</td>\n",
       "      <td>22067.000000</td>\n",
       "      <td>22067.000000</td>\n",
       "      <td>2.206700e+04</td>\n",
       "      <td>2.206700e+04</td>\n",
       "      <td>2.206700e+04</td>\n",
       "      <td>22067.000000</td>\n",
       "      <td>2.206700e+04</td>\n",
       "      <td>2.206700e+04</td>\n",
       "      <td>2.206700e+04</td>\n",
       "      <td>2.206700e+04</td>\n",
       "      <td>2.206700e+04</td>\n",
       "      <td>2.206700e+04</td>\n",
       "      <td>22067.000000</td>\n",
       "    </tr>\n",
       "    <tr>\n",
       "      <th>mean</th>\n",
       "      <td>14163.981783</td>\n",
       "      <td>15115.161372</td>\n",
       "      <td>2547.069334</td>\n",
       "      <td>47.931345</td>\n",
       "      <td>0.377487</td>\n",
       "      <td>800.318575</td>\n",
       "      <td>2.211991</td>\n",
       "      <td>874.440975</td>\n",
       "      <td>66.934790</td>\n",
       "      <td>7.132589e+03</td>\n",
       "      <td>7.222013e+03</td>\n",
       "      <td>7.181977e+03</td>\n",
       "      <td>6694.966494</td>\n",
       "      <td>3.943065e+03</td>\n",
       "      <td>3.781366e+03</td>\n",
       "      <td>4.070565e+03</td>\n",
       "      <td>3.720333e+03</td>\n",
       "      <td>7.165418e+03</td>\n",
       "      <td>7.182148e+03</td>\n",
       "      <td>0.193683</td>\n",
       "    </tr>\n",
       "    <tr>\n",
       "      <th>std</th>\n",
       "      <td>8184.834214</td>\n",
       "      <td>8737.384035</td>\n",
       "      <td>1598.675520</td>\n",
       "      <td>16.393352</td>\n",
       "      <td>1.044629</td>\n",
       "      <td>431.454448</td>\n",
       "      <td>0.669556</td>\n",
       "      <td>904.244526</td>\n",
       "      <td>84.133427</td>\n",
       "      <td>2.026846e+04</td>\n",
       "      <td>2.105071e+04</td>\n",
       "      <td>1.927121e+04</td>\n",
       "      <td>17101.802052</td>\n",
       "      <td>8.661750e+04</td>\n",
       "      <td>3.254151e+04</td>\n",
       "      <td>5.726446e+04</td>\n",
       "      <td>2.517514e+04</td>\n",
       "      <td>1.959007e+04</td>\n",
       "      <td>2.097682e+04</td>\n",
       "      <td>0.395192</td>\n",
       "    </tr>\n",
       "    <tr>\n",
       "      <th>min</th>\n",
       "      <td>0.000000</td>\n",
       "      <td>1.000000</td>\n",
       "      <td>180.000000</td>\n",
       "      <td>1.000000</td>\n",
       "      <td>0.000000</td>\n",
       "      <td>0.000000</td>\n",
       "      <td>1.000000</td>\n",
       "      <td>1.000000</td>\n",
       "      <td>0.000000</td>\n",
       "      <td>-5.503960e+03</td>\n",
       "      <td>-3.145380e+03</td>\n",
       "      <td>1.428690e+03</td>\n",
       "      <td>-16506.100000</td>\n",
       "      <td>1.000000e-02</td>\n",
       "      <td>1.000000e-02</td>\n",
       "      <td>1.000000e-02</td>\n",
       "      <td>1.000000e-02</td>\n",
       "      <td>-3.374180e+03</td>\n",
       "      <td>-5.171920e+03</td>\n",
       "      <td>0.000000</td>\n",
       "    </tr>\n",
       "    <tr>\n",
       "      <th>25%</th>\n",
       "      <td>7060.500000</td>\n",
       "      <td>7522.500000</td>\n",
       "      <td>1321.000000</td>\n",
       "      <td>36.000000</td>\n",
       "      <td>0.000000</td>\n",
       "      <td>409.000000</td>\n",
       "      <td>2.000000</td>\n",
       "      <td>159.000000</td>\n",
       "      <td>11.000000</td>\n",
       "      <td>1.784445e+03</td>\n",
       "      <td>1.906485e+03</td>\n",
       "      <td>2.209835e+03</td>\n",
       "      <td>1817.980000</td>\n",
       "      <td>3.600000e-01</td>\n",
       "      <td>3.700000e-01</td>\n",
       "      <td>4.700000e-01</td>\n",
       "      <td>4.900000e-01</td>\n",
       "      <td>2.029970e+03</td>\n",
       "      <td>2.090665e+03</td>\n",
       "      <td>0.000000</td>\n",
       "    </tr>\n",
       "    <tr>\n",
       "      <th>50%</th>\n",
       "      <td>14163.000000</td>\n",
       "      <td>15120.000000</td>\n",
       "      <td>2202.000000</td>\n",
       "      <td>46.000000</td>\n",
       "      <td>0.000000</td>\n",
       "      <td>848.000000</td>\n",
       "      <td>2.000000</td>\n",
       "      <td>531.000000</td>\n",
       "      <td>28.000000</td>\n",
       "      <td>3.335440e+03</td>\n",
       "      <td>3.426740e+03</td>\n",
       "      <td>3.592880e+03</td>\n",
       "      <td>3380.690000</td>\n",
       "      <td>1.130000e+00</td>\n",
       "      <td>6.440000e+00</td>\n",
       "      <td>2.147300e+02</td>\n",
       "      <td>2.285000e+02</td>\n",
       "      <td>3.501740e+03</td>\n",
       "      <td>3.508160e+03</td>\n",
       "      <td>0.000000</td>\n",
       "    </tr>\n",
       "    <tr>\n",
       "      <th>75%</th>\n",
       "      <td>21265.500000</td>\n",
       "      <td>22685.500000</td>\n",
       "      <td>3370.000000</td>\n",
       "      <td>60.000000</td>\n",
       "      <td>0.000000</td>\n",
       "      <td>1096.000000</td>\n",
       "      <td>3.000000</td>\n",
       "      <td>1374.000000</td>\n",
       "      <td>90.000000</td>\n",
       "      <td>6.801310e+03</td>\n",
       "      <td>6.826095e+03</td>\n",
       "      <td>6.819235e+03</td>\n",
       "      <td>6628.750000</td>\n",
       "      <td>9.937800e+02</td>\n",
       "      <td>1.129115e+03</td>\n",
       "      <td>1.579220e+03</td>\n",
       "      <td>1.643175e+03</td>\n",
       "      <td>6.858385e+03</td>\n",
       "      <td>6.779355e+03</td>\n",
       "      <td>0.000000</td>\n",
       "    </tr>\n",
       "    <tr>\n",
       "      <th>max</th>\n",
       "      <td>28381.000000</td>\n",
       "      <td>30301.000000</td>\n",
       "      <td>11353.000000</td>\n",
       "      <td>90.000000</td>\n",
       "      <td>52.000000</td>\n",
       "      <td>1649.000000</td>\n",
       "      <td>3.000000</td>\n",
       "      <td>4782.000000</td>\n",
       "      <td>365.000000</td>\n",
       "      <td>1.076091e+06</td>\n",
       "      <td>1.001124e+06</td>\n",
       "      <td>1.192704e+06</td>\n",
       "      <td>856596.510000</td>\n",
       "      <td>1.226985e+07</td>\n",
       "      <td>2.361808e+06</td>\n",
       "      <td>7.637857e+06</td>\n",
       "      <td>1.414168e+06</td>\n",
       "      <td>1.074625e+06</td>\n",
       "      <td>1.326487e+06</td>\n",
       "      <td>1.000000</td>\n",
       "    </tr>\n",
       "  </tbody>\n",
       "</table>\n",
       "</div>"
      ],
      "text/plain": [
       "              index   customer_id       vintage           age    dependents  \\\n",
       "count  22067.000000  22067.000000  22067.000000  22067.000000  22067.000000   \n",
       "mean   14163.981783  15115.161372   2547.069334     47.931345      0.377487   \n",
       "std     8184.834214   8737.384035   1598.675520     16.393352      1.044629   \n",
       "min        0.000000      1.000000    180.000000      1.000000      0.000000   \n",
       "25%     7060.500000   7522.500000   1321.000000     36.000000      0.000000   \n",
       "50%    14163.000000  15120.000000   2202.000000     46.000000      0.000000   \n",
       "75%    21265.500000  22685.500000   3370.000000     60.000000      0.000000   \n",
       "max    28381.000000  30301.000000  11353.000000     90.000000     52.000000   \n",
       "\n",
       "               city  customer_nw_category   branch_code  \\\n",
       "count  22067.000000          22067.000000  22067.000000   \n",
       "mean     800.318575              2.211991    874.440975   \n",
       "std      431.454448              0.669556    904.244526   \n",
       "min        0.000000              1.000000      1.000000   \n",
       "25%      409.000000              2.000000    159.000000   \n",
       "50%      848.000000              2.000000    531.000000   \n",
       "75%     1096.000000              3.000000   1374.000000   \n",
       "max     1649.000000              3.000000   4782.000000   \n",
       "\n",
       "       days_since_last_transaction  current_balance  \\\n",
       "count                 22067.000000     2.206700e+04   \n",
       "mean                     66.934790     7.132589e+03   \n",
       "std                      84.133427     2.026846e+04   \n",
       "min                       0.000000    -5.503960e+03   \n",
       "25%                      11.000000     1.784445e+03   \n",
       "50%                      28.000000     3.335440e+03   \n",
       "75%                      90.000000     6.801310e+03   \n",
       "max                     365.000000     1.076091e+06   \n",
       "\n",
       "       previous_month_end_balance  average_monthly_balance_prevQ  \\\n",
       "count                2.206700e+04                   2.206700e+04   \n",
       "mean                 7.222013e+03                   7.181977e+03   \n",
       "std                  2.105071e+04                   1.927121e+04   \n",
       "min                 -3.145380e+03                   1.428690e+03   \n",
       "25%                  1.906485e+03                   2.209835e+03   \n",
       "50%                  3.426740e+03                   3.592880e+03   \n",
       "75%                  6.826095e+03                   6.819235e+03   \n",
       "max                  1.001124e+06                   1.192704e+06   \n",
       "\n",
       "       average_monthly_balance_prevQ2  current_month_credit  \\\n",
       "count                    22067.000000          2.206700e+04   \n",
       "mean                      6694.966494          3.943065e+03   \n",
       "std                      17101.802052          8.661750e+04   \n",
       "min                     -16506.100000          1.000000e-02   \n",
       "25%                       1817.980000          3.600000e-01   \n",
       "50%                       3380.690000          1.130000e+00   \n",
       "75%                       6628.750000          9.937800e+02   \n",
       "max                     856596.510000          1.226985e+07   \n",
       "\n",
       "       previous_month_credit  current_month_debit  previous_month_debit  \\\n",
       "count           2.206700e+04         2.206700e+04          2.206700e+04   \n",
       "mean            3.781366e+03         4.070565e+03          3.720333e+03   \n",
       "std             3.254151e+04         5.726446e+04          2.517514e+04   \n",
       "min             1.000000e-02         1.000000e-02          1.000000e-02   \n",
       "25%             3.700000e-01         4.700000e-01          4.900000e-01   \n",
       "50%             6.440000e+00         2.147300e+02          2.285000e+02   \n",
       "75%             1.129115e+03         1.579220e+03          1.643175e+03   \n",
       "max             2.361808e+06         7.637857e+06          1.414168e+06   \n",
       "\n",
       "       current_month_balance  previous_month_balance         churn  \n",
       "count           2.206700e+04            2.206700e+04  22067.000000  \n",
       "mean            7.165418e+03            7.182148e+03      0.193683  \n",
       "std             1.959007e+04            2.097682e+04      0.395192  \n",
       "min            -3.374180e+03           -5.171920e+03      0.000000  \n",
       "25%             2.029970e+03            2.090665e+03      0.000000  \n",
       "50%             3.501740e+03            3.508160e+03      0.000000  \n",
       "75%             6.858385e+03            6.779355e+03      0.000000  \n",
       "max             1.074625e+06            1.326487e+06      1.000000  "
      ]
     },
     "execution_count": 179,
     "metadata": {},
     "output_type": "execute_result"
    }
   ],
   "source": [
    "df.describe()"
   ]
  },
  {
   "cell_type": "markdown",
   "metadata": {},
   "source": [
    "## One hot encoding"
   ]
  },
  {
   "cell_type": "code",
   "execution_count": 180,
   "metadata": {},
   "outputs": [
    {
     "data": {
      "text/html": [
       "<div>\n",
       "<style scoped>\n",
       "    .dataframe tbody tr th:only-of-type {\n",
       "        vertical-align: middle;\n",
       "    }\n",
       "\n",
       "    .dataframe tbody tr th {\n",
       "        vertical-align: top;\n",
       "    }\n",
       "\n",
       "    .dataframe thead th {\n",
       "        text-align: right;\n",
       "    }\n",
       "</style>\n",
       "<table border=\"1\" class=\"dataframe\">\n",
       "  <thead>\n",
       "    <tr style=\"text-align: right;\">\n",
       "      <th></th>\n",
       "      <th>gender_Female</th>\n",
       "      <th>gender_Male</th>\n",
       "      <th>occupation_company</th>\n",
       "      <th>occupation_retired</th>\n",
       "      <th>occupation_salaried</th>\n",
       "      <th>occupation_self_employed</th>\n",
       "      <th>occupation_student</th>\n",
       "    </tr>\n",
       "  </thead>\n",
       "  <tbody>\n",
       "    <tr>\n",
       "      <th>0</th>\n",
       "      <td>0</td>\n",
       "      <td>1</td>\n",
       "      <td>0</td>\n",
       "      <td>0</td>\n",
       "      <td>0</td>\n",
       "      <td>1</td>\n",
       "      <td>0</td>\n",
       "    </tr>\n",
       "    <tr>\n",
       "      <th>1</th>\n",
       "      <td>0</td>\n",
       "      <td>1</td>\n",
       "      <td>0</td>\n",
       "      <td>0</td>\n",
       "      <td>0</td>\n",
       "      <td>1</td>\n",
       "      <td>0</td>\n",
       "    </tr>\n",
       "    <tr>\n",
       "      <th>2</th>\n",
       "      <td>1</td>\n",
       "      <td>0</td>\n",
       "      <td>0</td>\n",
       "      <td>0</td>\n",
       "      <td>0</td>\n",
       "      <td>1</td>\n",
       "      <td>0</td>\n",
       "    </tr>\n",
       "    <tr>\n",
       "      <th>3</th>\n",
       "      <td>0</td>\n",
       "      <td>1</td>\n",
       "      <td>0</td>\n",
       "      <td>1</td>\n",
       "      <td>0</td>\n",
       "      <td>0</td>\n",
       "      <td>0</td>\n",
       "    </tr>\n",
       "    <tr>\n",
       "      <th>4</th>\n",
       "      <td>0</td>\n",
       "      <td>1</td>\n",
       "      <td>0</td>\n",
       "      <td>0</td>\n",
       "      <td>0</td>\n",
       "      <td>1</td>\n",
       "      <td>0</td>\n",
       "    </tr>\n",
       "    <tr>\n",
       "      <th>...</th>\n",
       "      <td>...</td>\n",
       "      <td>...</td>\n",
       "      <td>...</td>\n",
       "      <td>...</td>\n",
       "      <td>...</td>\n",
       "      <td>...</td>\n",
       "      <td>...</td>\n",
       "    </tr>\n",
       "    <tr>\n",
       "      <th>22062</th>\n",
       "      <td>0</td>\n",
       "      <td>1</td>\n",
       "      <td>0</td>\n",
       "      <td>0</td>\n",
       "      <td>0</td>\n",
       "      <td>1</td>\n",
       "      <td>0</td>\n",
       "    </tr>\n",
       "    <tr>\n",
       "      <th>22063</th>\n",
       "      <td>1</td>\n",
       "      <td>0</td>\n",
       "      <td>0</td>\n",
       "      <td>0</td>\n",
       "      <td>0</td>\n",
       "      <td>0</td>\n",
       "      <td>1</td>\n",
       "    </tr>\n",
       "    <tr>\n",
       "      <th>22064</th>\n",
       "      <td>1</td>\n",
       "      <td>0</td>\n",
       "      <td>0</td>\n",
       "      <td>0</td>\n",
       "      <td>0</td>\n",
       "      <td>1</td>\n",
       "      <td>0</td>\n",
       "    </tr>\n",
       "    <tr>\n",
       "      <th>22065</th>\n",
       "      <td>0</td>\n",
       "      <td>1</td>\n",
       "      <td>0</td>\n",
       "      <td>0</td>\n",
       "      <td>1</td>\n",
       "      <td>0</td>\n",
       "      <td>0</td>\n",
       "    </tr>\n",
       "    <tr>\n",
       "      <th>22066</th>\n",
       "      <td>0</td>\n",
       "      <td>1</td>\n",
       "      <td>0</td>\n",
       "      <td>0</td>\n",
       "      <td>0</td>\n",
       "      <td>0</td>\n",
       "      <td>1</td>\n",
       "    </tr>\n",
       "  </tbody>\n",
       "</table>\n",
       "<p>22067 rows × 7 columns</p>\n",
       "</div>"
      ],
      "text/plain": [
       "       gender_Female  gender_Male  occupation_company  occupation_retired  \\\n",
       "0                  0            1                   0                   0   \n",
       "1                  0            1                   0                   0   \n",
       "2                  1            0                   0                   0   \n",
       "3                  0            1                   0                   1   \n",
       "4                  0            1                   0                   0   \n",
       "...              ...          ...                 ...                 ...   \n",
       "22062              0            1                   0                   0   \n",
       "22063              1            0                   0                   0   \n",
       "22064              1            0                   0                   0   \n",
       "22065              0            1                   0                   0   \n",
       "22066              0            1                   0                   0   \n",
       "\n",
       "       occupation_salaried  occupation_self_employed  occupation_student  \n",
       "0                        0                         1                   0  \n",
       "1                        0                         1                   0  \n",
       "2                        0                         1                   0  \n",
       "3                        0                         0                   0  \n",
       "4                        0                         1                   0  \n",
       "...                    ...                       ...                 ...  \n",
       "22062                    0                         1                   0  \n",
       "22063                    0                         0                   1  \n",
       "22064                    0                         1                   0  \n",
       "22065                    1                         0                   0  \n",
       "22066                    0                         0                   1  \n",
       "\n",
       "[22067 rows x 7 columns]"
      ]
     },
     "execution_count": 180,
     "metadata": {},
     "output_type": "execute_result"
    }
   ],
   "source": [
    "pd.get_dummies(df[['gender','occupation']])"
   ]
  },
  {
   "cell_type": "code",
   "execution_count": 181,
   "metadata": {},
   "outputs": [],
   "source": [
    "enc = OneHotEncoder(handle_unknown='error',sparse=False,drop='first')\n",
    "new_features = pd.DataFrame(enc.fit_transform(df[['gender','occupation']]),columns=enc.get_feature_names())\n"
   ]
  },
  {
   "cell_type": "code",
   "execution_count": 182,
   "metadata": {},
   "outputs": [],
   "source": [
    "new_df=df.join(new_features)"
   ]
  },
  {
   "cell_type": "code",
   "execution_count": 183,
   "metadata": {},
   "outputs": [],
   "source": [
    "new_df.drop(['index','customer_id','gender','occupation'],axis=1,inplace=True)"
   ]
  },
  {
   "cell_type": "code",
   "execution_count": 184,
   "metadata": {},
   "outputs": [],
   "source": [
    "categorical_feature = [col for col in df.columns if len(df[col].unique())<25]\n",
    "continuous_features = [col for col in df.columns if col not in categorical_feature]"
   ]
  },
  {
   "cell_type": "code",
   "execution_count": 185,
   "metadata": {},
   "outputs": [
    {
     "data": {
      "text/plain": [
       "['gender', 'dependents', 'occupation', 'customer_nw_category', 'churn']"
      ]
     },
     "execution_count": 185,
     "metadata": {},
     "output_type": "execute_result"
    }
   ],
   "source": [
    "categorical_feature"
   ]
  },
  {
   "cell_type": "code",
   "execution_count": 186,
   "metadata": {},
   "outputs": [
    {
     "name": "stdout",
     "output_type": "stream",
     "text": [
      "Continuous features are:  ['vintage', 'age', 'city', 'branch_code', 'days_since_last_transaction', 'current_balance', 'previous_month_end_balance', 'average_monthly_balance_prevQ', 'average_monthly_balance_prevQ2', 'current_month_credit', 'previous_month_credit', 'current_month_debit', 'previous_month_debit', 'current_month_balance', 'previous_month_balance']\n",
      "length of continuous features are:  15\n"
     ]
    }
   ],
   "source": [
    "continuous_features=continuous_features[2:]\n",
    "print(\"Continuous features are: \",continuous_features)\n",
    "print(\"length of continuous features are: \",len(continuous_features))"
   ]
  },
  {
   "cell_type": "markdown",
   "metadata": {},
   "source": [
    "## Outlier detection for continuous features"
   ]
  },
  {
   "cell_type": "code",
   "execution_count": 187,
   "metadata": {},
   "outputs": [
    {
     "name": "stdout",
     "output_type": "stream",
     "text": [
      "Skew =  0.7986761870370633\n"
     ]
    },
    {
     "data": {
      "image/png": "[encoded data removed]",
      "text/plain": [
       "<Figure size 432x288 with 1 Axes>"
      ]
     },
     "metadata": {
      "needs_background": "light"
     },
     "output_type": "display_data"
    },
    {
     "data": {
      "image/png": "[encoded data removed]",
      "text/plain": [
       "<Figure size 432x288 with 1 Axes>"
      ]
     },
     "metadata": {
      "needs_background": "light"
     },
     "output_type": "display_data"
    }
   ],
   "source": [
    "print(\"Skew = \",new_df[continuous_features[0]].skew())\n",
    "sns.boxplot(data=new_df[continuous_features[0]])\n",
    "plt.title(continuous_features[0])\n",
    "plt.show()\n",
    "\n",
    "sns.distplot(new_df[continuous_features[0]],bins=50)\n",
    "plt.title(continuous_features[0])\n",
    "plt.show()"
   ]
  },
  {
   "cell_type": "markdown",
   "metadata": {},
   "source": [
    "## In vintage feature we can see there are some outlier.i am asuming here that the values which are > 90 percentile is a outlier. So we will replace outliers using median values."
   ]
  },
  {
   "cell_type": "code",
   "execution_count": 188,
   "metadata": {},
   "outputs": [
    {
     "name": "stdout",
     "output_type": "stream",
     "text": [
      "Outlier= 4989.0\tMedian= 2202.0\n",
      "After removing outlier skew is = 0.526741513793479\n"
     ]
    },
    {
     "data": {
      "image/png": "[encoded data removed]",
      "text/plain": [
       "<Figure size 432x288 with 1 Axes>"
      ]
     },
     "metadata": {
      "needs_background": "light"
     },
     "output_type": "display_data"
    },
    {
     "data": {
      "image/png": "[encoded data removed]",
      "text/plain": [
       "<Figure size 432x288 with 1 Axes>"
      ]
     },
     "metadata": {
      "needs_background": "light"
     },
     "output_type": "display_data"
    }
   ],
   "source": [
    "outlier=new_df[continuous_features[0]].quantile(0.90)\n",
    "median=new_df[continuous_features[0]].quantile(0.50)\n",
    "print(f'Outlier= {outlier}\\tMedian= {median}')\n",
    "new_df[continuous_features[0]] = np.where(new_df[continuous_features[0]]>outlier,median,new_df[continuous_features[0]])\n",
    "print(f'After removing outlier skew is = {new_df[continuous_features[0]].skew()}')\n",
    "sns.boxplot(data=new_df[continuous_features[0]])\n",
    "plt.title(continuous_features[0])\n",
    "plt.show()\n",
    "\n",
    "sns.distplot(new_df[continuous_features[0]],bins=50)\n",
    "plt.title(continuous_features[0])\n",
    "plt.show()"
   ]
  },
  {
   "cell_type": "code",
   "execution_count": 189,
   "metadata": {},
   "outputs": [
    {
     "name": "stdout",
     "output_type": "stream",
     "text": [
      "Skew =  0.30709589335282683\n"
     ]
    },
    {
     "data": {
      "image/png": "[encoded data removed]",
      "text/plain": [
       "<Figure size 432x288 with 1 Axes>"
      ]
     },
     "metadata": {
      "needs_background": "light"
     },
     "output_type": "display_data"
    },
    {
     "data": {
      "image/png": "[encoded data removed]",
      "text/plain": [
       "<Figure size 432x288 with 1 Axes>"
      ]
     },
     "metadata": {
      "needs_background": "light"
     },
     "output_type": "display_data"
    }
   ],
   "source": [
    "print(\"Skew = \",new_df[continuous_features[1]].skew())\n",
    "sns.boxplot(data=new_df[continuous_features[1]])\n",
    "plt.title(continuous_features[1])\n",
    "plt.show()\n",
    "\n",
    "sns.distplot(new_df[continuous_features[1]],bins=50)\n",
    "plt.title(continuous_features[1])\n",
    "plt.show()"
   ]
  },
  {
   "cell_type": "markdown",
   "metadata": {},
   "source": [
    "## From the above diagram we can see that there are no outliers in age feature"
   ]
  },
  {
   "cell_type": "code",
   "execution_count": 190,
   "metadata": {},
   "outputs": [
    {
     "name": "stdout",
     "output_type": "stream",
     "text": [
      "Skew =  -0.09951067207951939\n"
     ]
    },
    {
     "data": {
      "image/png": "[encoded data removed]",
      "text/plain": [
       "<Figure size 432x288 with 1 Axes>"
      ]
     },
     "metadata": {
      "needs_background": "light"
     },
     "output_type": "display_data"
    },
    {
     "data": {
      "image/png": "[encoded data removed]",
      "text/plain": [
       "<Figure size 432x288 with 1 Axes>"
      ]
     },
     "metadata": {
      "needs_background": "light"
     },
     "output_type": "display_data"
    }
   ],
   "source": [
    "print(\"Skew = \",new_df[continuous_features[2]].skew())\n",
    "sns.boxplot(data=new_df[continuous_features[2]])\n",
    "plt.title(continuous_features[2])\n",
    "plt.show()\n",
    "\n",
    "sns.distplot(new_df[continuous_features[2]],bins=50)\n",
    "plt.title(continuous_features[2])\n",
    "plt.show()"
   ]
  },
  {
   "cell_type": "markdown",
   "metadata": {},
   "source": [
    "## From the above diagram we can see that there are no outliers in city feature"
   ]
  },
  {
   "cell_type": "code",
   "execution_count": 191,
   "metadata": {},
   "outputs": [
    {
     "name": "stdout",
     "output_type": "stream",
     "text": [
      "Skew =  1.7217673979470982\n"
     ]
    },
    {
     "data": {
      "image/png": "[encoded data removed]",
      "text/plain": [
       "<Figure size 432x288 with 1 Axes>"
      ]
     },
     "metadata": {
      "needs_background": "light"
     },
     "output_type": "display_data"
    },
    {
     "data": {
      "image/png": "[encoded data removed]",
      "text/plain": [
       "<Figure size 432x288 with 1 Axes>"
      ]
     },
     "metadata": {
      "needs_background": "light"
     },
     "output_type": "display_data"
    }
   ],
   "source": [
    "print(\"Skew = \",new_df[continuous_features[4]].skew())\n",
    "sns.boxplot(data=new_df[continuous_features[4]])\n",
    "plt.title(continuous_features[4])\n",
    "plt.show()\n",
    "\n",
    "sns.distplot(new_df[continuous_features[4]],bins=50)\n",
    "plt.title(continuous_features[4])\n",
    "plt.show()"
   ]
  },
  {
   "cell_type": "markdown",
   "metadata": {},
   "source": [
    "## from the above plot we can see that there are lots of values in the days_since_last_transaction which are greater than 100.which indicates that there are lots of customer who made last transaction more than 100 days ago.I am considering that this are outliers.so we will replace > 80 percentile value with median value as 80 percentile is 115"
   ]
  },
  {
   "cell_type": "code",
   "execution_count": 192,
   "metadata": {},
   "outputs": [
    {
     "name": "stdout",
     "output_type": "stream",
     "text": [
      "Outlier= 115.0\tMedian= 28.0\n",
      "After removing outlier skew is = 1.3147977520013066\n"
     ]
    },
    {
     "data": {
      "image/png": "[encoded data removed]",
      "text/plain": [
       "<Figure size 432x288 with 1 Axes>"
      ]
     },
     "metadata": {
      "needs_background": "light"
     },
     "output_type": "display_data"
    },
    {
     "data": {
      "image/png": "[encoded data removed]",
      "text/plain": [
       "<Figure size 432x288 with 1 Axes>"
      ]
     },
     "metadata": {
      "needs_background": "light"
     },
     "output_type": "display_data"
    }
   ],
   "source": [
    "outlier=new_df[continuous_features[4]].quantile(0.80)\n",
    "median=new_df[continuous_features[4]].quantile(0.50)\n",
    "print(f'Outlier= {outlier}\\tMedian= {median}')\n",
    "new_df[continuous_features[4]] = np.where(new_df[continuous_features[4]]>outlier,median,new_df[continuous_features[4]])\n",
    "print(f'After removing outlier skew is = {new_df[continuous_features[4]].skew()}')\n",
    "sns.boxplot(data=new_df[continuous_features[4]])\n",
    "plt.title(continuous_features[4])\n",
    "plt.show()\n",
    "\n",
    "sns.distplot(new_df[continuous_features[4]],bins=50)\n",
    "plt.title(continuous_features[4])\n",
    "plt.show()"
   ]
  },
  {
   "cell_type": "code",
   "execution_count": 193,
   "metadata": {},
   "outputs": [
    {
     "name": "stdout",
     "output_type": "stream",
     "text": [
      "Skew =  22.721691386582588\n"
     ]
    },
    {
     "data": {
      "image/png": "[encoded data removed]",
      "text/plain": [
       "<Figure size 432x288 with 1 Axes>"
      ]
     },
     "metadata": {
      "needs_background": "light"
     },
     "output_type": "display_data"
    },
    {
     "data": {
      "image/png": "[encoded data removed]",
      "text/plain": [
       "<Figure size 432x288 with 1 Axes>"
      ]
     },
     "metadata": {
      "needs_background": "light"
     },
     "output_type": "display_data"
    }
   ],
   "source": [
    "print(\"Skew = \",new_df[continuous_features[5]].skew())\n",
    "sns.boxplot(data=new_df[continuous_features[5]])\n",
    "plt.title(continuous_features[5])\n",
    "plt.show()\n",
    "\n",
    "sns.distplot(new_df[continuous_features[5]],bins=50)\n",
    "plt.title(continuous_features[5])\n",
    "plt.show()"
   ]
  },
  {
   "cell_type": "markdown",
   "metadata": {},
   "source": [
    "## From the above data we can see there are some values which are <0 and there are some values which are very large.we will consider that values as outliers.we will replace the values which are <0 with 0 and the values which are >90 percentile with median value"
   ]
  },
  {
   "cell_type": "code",
   "execution_count": 194,
   "metadata": {},
   "outputs": [
    {
     "name": "stdout",
     "output_type": "stream",
     "text": [
      "Outlier= 13967.512\tMedian= 3335.44\n",
      "After removing outlier skew is = 1.279431013997891\n"
     ]
    },
    {
     "data": {
      "image/png": "[encoded data removed]",
      "text/plain": [
       "<Figure size 432x288 with 1 Axes>"
      ]
     },
     "metadata": {
      "needs_background": "light"
     },
     "output_type": "display_data"
    },
    {
     "data": {
      "image/png": "[encoded data removed]",
      "text/plain": [
       "<Figure size 432x288 with 1 Axes>"
      ]
     },
     "metadata": {
      "needs_background": "light"
     },
     "output_type": "display_data"
    }
   ],
   "source": [
    "outlier=new_df[continuous_features[5]].quantile(0.90)\n",
    "median=new_df[continuous_features[5]].quantile(0.50)\n",
    "print(f'Outlier= {outlier}\\tMedian= {median}')\n",
    "new_df[continuous_features[5]] = np.where(new_df[continuous_features[5]]<0,0,new_df[continuous_features[5]])\n",
    "new_df[continuous_features[5]] = np.where(new_df[continuous_features[5]]>outlier,median,new_df[continuous_features[5]])\n",
    "print(f'After removing outlier skew is = {new_df[continuous_features[5]].skew()}')\n",
    "sns.boxplot(data=new_df[continuous_features[5]])\n",
    "plt.title(continuous_features[5])\n",
    "plt.show()\n",
    "\n",
    "sns.distplot(new_df[continuous_features[5]],bins=50)\n",
    "plt.title(continuous_features[5])\n",
    "plt.show()"
   ]
  },
  {
   "cell_type": "code",
   "execution_count": 195,
   "metadata": {},
   "outputs": [
    {
     "name": "stdout",
     "output_type": "stream",
     "text": [
      "Skew =  24.234403980083435\n"
     ]
    },
    {
     "data": {
      "image/png": "[encoded data removed]",
      "text/plain": [
       "<Figure size 432x288 with 1 Axes>"
      ]
     },
     "metadata": {
      "needs_background": "light"
     },
     "output_type": "display_data"
    },
    {
     "data": {
      "image/png": "[encoded data removed]",
      "text/plain": [
       "<Figure size 432x288 with 1 Axes>"
      ]
     },
     "metadata": {
      "needs_background": "light"
     },
     "output_type": "display_data"
    }
   ],
   "source": [
    "print(\"Skew = \",new_df[continuous_features[6]].skew())\n",
    "sns.boxplot(data=new_df[continuous_features[6]])\n",
    "plt.title(continuous_features[6])\n",
    "plt.show()\n",
    "\n",
    "sns.distplot(new_df[continuous_features[6]],bins=50)\n",
    "plt.title(continuous_features[6])\n",
    "plt.show()"
   ]
  },
  {
   "cell_type": "code",
   "execution_count": 196,
   "metadata": {},
   "outputs": [
    {
     "data": {
      "text/plain": [
       "count    2.206700e+04\n",
       "mean     7.222013e+03\n",
       "std      2.105071e+04\n",
       "min     -3.145380e+03\n",
       "25%      1.906485e+03\n",
       "50%      3.426740e+03\n",
       "75%      6.826095e+03\n",
       "max      1.001124e+06\n",
       "Name: previous_month_end_balance, dtype: float64"
      ]
     },
     "execution_count": 196,
     "metadata": {},
     "output_type": "execute_result"
    }
   ],
   "source": [
    "new_df[continuous_features[6]].describe()"
   ]
  },
  {
   "cell_type": "markdown",
   "metadata": {},
   "source": [
    "## From the above data we can see there are some values which are <0 and there are some values which are very large.we will consider that values as outliers.we will replace the values which are <0 with 0 and the values which are >90 percentile with median value"
   ]
  },
  {
   "cell_type": "code",
   "execution_count": 197,
   "metadata": {},
   "outputs": [
    {
     "name": "stdout",
     "output_type": "stream",
     "text": [
      "Outlier= 13779.924000000006\tMedian= 3426.74\n",
      "After removing outlier skew is = 1.2811273214423209\n"
     ]
    },
    {
     "data": {
      "image/png": "[encoded data removed]",
      "text/plain": [
       "<Figure size 432x288 with 1 Axes>"
      ]
     },
     "metadata": {
      "needs_background": "light"
     },
     "output_type": "display_data"
    },
    {
     "data": {
      "image/png": "[encoded data removed]",
      "text/plain": [
       "<Figure size 432x288 with 1 Axes>"
      ]
     },
     "metadata": {
      "needs_background": "light"
     },
     "output_type": "display_data"
    }
   ],
   "source": [
    "outlier=new_df[continuous_features[6]].quantile(0.90)\n",
    "median=new_df[continuous_features[6]].quantile(0.50)\n",
    "print(f'Outlier= {outlier}\\tMedian= {median}')\n",
    "new_df[continuous_features[6]] = np.where(new_df[continuous_features[6]]<0,0,new_df[continuous_features[6]])\n",
    "new_df[continuous_features[6]] = np.where(new_df[continuous_features[6]]>outlier,median,new_df[continuous_features[6]])\n",
    "print(f'After removing outlier skew is = {new_df[continuous_features[6]].skew()}')\n",
    "sns.boxplot(data=new_df[continuous_features[6]])\n",
    "plt.title(continuous_features[6])\n",
    "plt.show()\n",
    "\n",
    "sns.distplot(new_df[continuous_features[6]],bins=50)\n",
    "plt.title(continuous_features[6])\n",
    "plt.show()"
   ]
  },
  {
   "cell_type": "code",
   "execution_count": 198,
   "metadata": {},
   "outputs": [
    {
     "name": "stdout",
     "output_type": "stream",
     "text": [
      "Skew =  27.614785425588185\n"
     ]
    },
    {
     "data": {
      "image/png": "[encoded data removed]",
      "text/plain": [
       "<Figure size 432x288 with 1 Axes>"
      ]
     },
     "metadata": {
      "needs_background": "light"
     },
     "output_type": "display_data"
    },
    {
     "data": {
      "image/png": "[encoded data removed]",
      "text/plain": [
       "<Figure size 432x288 with 1 Axes>"
      ]
     },
     "metadata": {
      "needs_background": "light"
     },
     "output_type": "display_data"
    }
   ],
   "source": [
    "print(\"Skew = \",new_df[continuous_features[7]].skew())\n",
    "sns.boxplot(data=new_df[continuous_features[7]])\n",
    "plt.title(continuous_features[7])\n",
    "plt.show()\n",
    "\n",
    "sns.distplot(new_df[continuous_features[7]],bins=50)\n",
    "plt.title(continuous_features[7])\n",
    "plt.show()"
   ]
  },
  {
   "cell_type": "code",
   "execution_count": 199,
   "metadata": {},
   "outputs": [
    {
     "data": {
      "text/plain": [
       "count    2.206700e+04\n",
       "mean     7.181977e+03\n",
       "std      1.927121e+04\n",
       "min      1.428690e+03\n",
       "25%      2.209835e+03\n",
       "50%      3.592880e+03\n",
       "75%      6.819235e+03\n",
       "max      1.192704e+06\n",
       "Name: average_monthly_balance_prevQ, dtype: float64"
      ]
     },
     "execution_count": 199,
     "metadata": {},
     "output_type": "execute_result"
    }
   ],
   "source": [
    "new_df[continuous_features[7]].describe()"
   ]
  },
  {
   "cell_type": "markdown",
   "metadata": {},
   "source": [
    "## From the above data we can see  there are some values which are very large.we will consider that values as outliers.we will replace the values which  are >90 percentile with median value"
   ]
  },
  {
   "cell_type": "code",
   "execution_count": 200,
   "metadata": {},
   "outputs": [
    {
     "name": "stdout",
     "output_type": "stream",
     "text": [
      "Outlier= 13266.246000000005\tMedian= 3592.88\n",
      "After removing outlier skew is = 1.4374912577851735\n"
     ]
    },
    {
     "data": {
      "image/png": "[encoded data removed]",
      "text/plain": [
       "<Figure size 432x288 with 1 Axes>"
      ]
     },
     "metadata": {
      "needs_background": "light"
     },
     "output_type": "display_data"
    },
    {
     "data": {
      "image/png": "[encoded data removed]",
      "text/plain": [
       "<Figure size 432x288 with 1 Axes>"
      ]
     },
     "metadata": {
      "needs_background": "light"
     },
     "output_type": "display_data"
    }
   ],
   "source": [
    "outlier=new_df[continuous_features[7]].quantile(0.90)\n",
    "median=new_df[continuous_features[7]].quantile(0.50)\n",
    "print(f'Outlier= {outlier}\\tMedian= {median}')\n",
    "new_df[continuous_features[7]] = np.where(new_df[continuous_features[7]]>outlier,median,new_df[continuous_features[7]])\n",
    "print(f'After removing outlier skew is = {new_df[continuous_features[7]].skew()}')\n",
    "sns.boxplot(data=new_df[continuous_features[7]])\n",
    "plt.title(continuous_features[7])\n",
    "plt.show()\n",
    "\n",
    "sns.distplot(new_df[continuous_features[7]],bins=50)\n",
    "plt.title(continuous_features[7])\n",
    "plt.show()"
   ]
  },
  {
   "cell_type": "code",
   "execution_count": 201,
   "metadata": {},
   "outputs": [
    {
     "name": "stdout",
     "output_type": "stream",
     "text": [
      "Skew =  21.323789143205683\n"
     ]
    },
    {
     "data": {
      "image/png": "[encoded data removed]",
      "text/plain": [
       "<Figure size 432x288 with 1 Axes>"
      ]
     },
     "metadata": {
      "needs_background": "light"
     },
     "output_type": "display_data"
    },
    {
     "data": {
      "image/png": "[encoded data removed]",
      "text/plain": [
       "<Figure size 432x288 with 1 Axes>"
      ]
     },
     "metadata": {
      "needs_background": "light"
     },
     "output_type": "display_data"
    }
   ],
   "source": [
    "print(\"Skew = \",new_df[continuous_features[8]].skew())\n",
    "sns.boxplot(data=new_df[continuous_features[8]])\n",
    "plt.title(continuous_features[8])\n",
    "plt.show()\n",
    "\n",
    "sns.distplot(new_df[continuous_features[8]],bins=50)\n",
    "plt.title(continuous_features[8])\n",
    "plt.show()"
   ]
  },
  {
   "cell_type": "markdown",
   "metadata": {},
   "source": [
    "## From the above data we can see there are some values which are <0 and there are some values which are very large.we will consider that values as outliers.we will replace the values which are <0 with 0 and the values which are >90 percentile with median value"
   ]
  },
  {
   "cell_type": "code",
   "execution_count": 202,
   "metadata": {},
   "outputs": [
    {
     "name": "stdout",
     "output_type": "stream",
     "text": [
      "Outlier= 12893.11600000001\tMedian= 3380.69\n",
      "After removing outlier skew is = 1.2137404077322806\n"
     ]
    },
    {
     "data": {
      "image/png": "[encoded data removed]",
      "text/plain": [
       "<Figure size 432x288 with 1 Axes>"
      ]
     },
     "metadata": {
      "needs_background": "light"
     },
     "output_type": "display_data"
    },
    {
     "data": {
      "image/png": "[encoded data removed]",
      "text/plain": [
       "<Figure size 432x288 with 1 Axes>"
      ]
     },
     "metadata": {
      "needs_background": "light"
     },
     "output_type": "display_data"
    }
   ],
   "source": [
    "outlier=new_df[continuous_features[8]].quantile(0.90)\n",
    "median=new_df[continuous_features[8]].quantile(0.50)\n",
    "print(f'Outlier= {outlier}\\tMedian= {median}')\n",
    "new_df[continuous_features[8]] = np.where(new_df[continuous_features[8]]<0,0,new_df[continuous_features[8]])\n",
    "new_df[continuous_features[8]] = np.where(new_df[continuous_features[8]]>outlier,median,new_df[continuous_features[8]])\n",
    "print(f'After removing outlier skew is = {new_df[continuous_features[8]].skew()}')\n",
    "sns.boxplot(data=new_df[continuous_features[8]])\n",
    "plt.title(continuous_features[8])\n",
    "plt.show()\n",
    "\n",
    "sns.distplot(new_df[continuous_features[8]],bins=50)\n",
    "plt.title(continuous_features[8])\n",
    "plt.show()"
   ]
  },
  {
   "cell_type": "code",
   "execution_count": 203,
   "metadata": {},
   "outputs": [
    {
     "name": "stdout",
     "output_type": "stream",
     "text": [
      "Skew =  129.68757487691394\n"
     ]
    },
    {
     "data": {
      "image/png": "[encoded data removed]",
      "text/plain": [
       "<Figure size 432x288 with 1 Axes>"
      ]
     },
     "metadata": {
      "needs_background": "light"
     },
     "output_type": "display_data"
    },
    {
     "data": {
      "image/png": "[encoded data removed]",
      "text/plain": [
       "<Figure size 432x288 with 1 Axes>"
      ]
     },
     "metadata": {
      "needs_background": "light"
     },
     "output_type": "display_data"
    }
   ],
   "source": [
    "print(\"Skew = \",new_df[continuous_features[9]].skew())\n",
    "sns.boxplot(data=new_df[continuous_features[9]])\n",
    "plt.title(continuous_features[9])\n",
    "plt.show()\n",
    "\n",
    "sns.distplot(new_df[continuous_features[9]],bins=50)\n",
    "plt.title(continuous_features[9])\n",
    "plt.show()"
   ]
  },
  {
   "cell_type": "markdown",
   "metadata": {},
   "source": [
    "## From the above data we can see  there are some values which are very large.we will consider that values as outliers.we will replace the values which  are >90 percentile with median value"
   ]
  },
  {
   "cell_type": "code",
   "execution_count": 204,
   "metadata": {},
   "outputs": [
    {
     "name": "stdout",
     "output_type": "stream",
     "text": [
      "Outlier= 4909.726000000001\tMedian= 1.13\n",
      "After removing outlier skew is = 2.6693573782111564\n"
     ]
    },
    {
     "data": {
      "image/png": "[encoded data removed]",
      "text/plain": [
       "<Figure size 432x288 with 1 Axes>"
      ]
     },
     "metadata": {
      "needs_background": "light"
     },
     "output_type": "display_data"
    },
    {
     "data": {
      "image/png": "[encoded data removed]",
      "text/plain": [
       "<Figure size 432x288 with 1 Axes>"
      ]
     },
     "metadata": {
      "needs_background": "light"
     },
     "output_type": "display_data"
    }
   ],
   "source": [
    "outlier=new_df[continuous_features[9]].quantile(0.90)\n",
    "median=new_df[continuous_features[9]].quantile(0.50)\n",
    "print(f'Outlier= {outlier}\\tMedian= {median}')\n",
    "new_df[continuous_features[9]] = np.where(new_df[continuous_features[9]]>outlier,median,new_df[continuous_features[9]])\n",
    "print(f'After removing outlier skew is = {new_df[continuous_features[9]].skew()}')\n",
    "sns.boxplot(data=new_df[continuous_features[9]])\n",
    "plt.title(continuous_features[9])\n",
    "plt.show()\n",
    "\n",
    "sns.distplot(new_df[continuous_features[9]],bins=50)\n",
    "plt.title(continuous_features[9])\n",
    "plt.show()"
   ]
  },
  {
   "cell_type": "code",
   "execution_count": 205,
   "metadata": {},
   "outputs": [
    {
     "name": "stdout",
     "output_type": "stream",
     "text": [
      "Skew =  40.53554410348666\n"
     ]
    },
    {
     "data": {
      "image/png": "[encoded data removed]",
      "text/plain": [
       "<Figure size 432x288 with 1 Axes>"
      ]
     },
     "metadata": {
      "needs_background": "light"
     },
     "output_type": "display_data"
    },
    {
     "data": {
      "image/png": "[encoded data removed]",
      "text/plain": [
       "<Figure size 432x288 with 1 Axes>"
      ]
     },
     "metadata": {
      "needs_background": "light"
     },
     "output_type": "display_data"
    }
   ],
   "source": [
    "print(\"Skew = \",new_df[continuous_features[10]].skew())\n",
    "sns.boxplot(data=new_df[continuous_features[10]])\n",
    "plt.title(continuous_features[10])\n",
    "plt.show()\n",
    "\n",
    "sns.distplot(new_df[continuous_features[10]],bins=50)\n",
    "plt.title(continuous_features[10])\n",
    "plt.show()"
   ]
  },
  {
   "cell_type": "markdown",
   "metadata": {},
   "source": [
    "## From the above data we can see  there are some values which are very large.we will consider that values as outliers.we will replace the values which  are >90 percentile with median value"
   ]
  },
  {
   "cell_type": "code",
   "execution_count": 206,
   "metadata": {},
   "outputs": [
    {
     "name": "stdout",
     "output_type": "stream",
     "text": [
      "Outlier= 5626.470000000025\tMedian= 6.44\n",
      "After removing outlier skew is = 2.6784254809425043\n"
     ]
    },
    {
     "data": {
      "image/png": "[encoded data removed]",
      "text/plain": [
       "<Figure size 432x288 with 1 Axes>"
      ]
     },
     "metadata": {
      "needs_background": "light"
     },
     "output_type": "display_data"
    },
    {
     "data": {
      "image/png": "[encoded data removed]",
      "text/plain": [
       "<Figure size 432x288 with 1 Axes>"
      ]
     },
     "metadata": {
      "needs_background": "light"
     },
     "output_type": "display_data"
    }
   ],
   "source": [
    "outlier=new_df[continuous_features[10]].quantile(0.90)\n",
    "median=new_df[continuous_features[10]].quantile(0.50)\n",
    "print(f'Outlier= {outlier}\\tMedian= {median}')\n",
    "new_df[continuous_features[10]] = np.where(new_df[continuous_features[10]]>outlier,median,new_df[continuous_features[10]])\n",
    "print(f'After removing outlier skew is = {new_df[continuous_features[10]].skew()}')\n",
    "sns.boxplot(data=new_df[continuous_features[10]])\n",
    "plt.title(continuous_features[10])\n",
    "plt.show()\n",
    "\n",
    "sns.distplot(new_df[continuous_features[10]],bins=50)\n",
    "plt.title(continuous_features[10])\n",
    "plt.show()"
   ]
  },
  {
   "cell_type": "code",
   "execution_count": 207,
   "metadata": {},
   "outputs": [
    {
     "name": "stdout",
     "output_type": "stream",
     "text": [
      "Skew =  110.22297022431452\n"
     ]
    },
    {
     "data": {
      "image/png": "[encoded data removed]",
      "text/plain": [
       "<Figure size 432x288 with 1 Axes>"
      ]
     },
     "metadata": {
      "needs_background": "light"
     },
     "output_type": "display_data"
    },
    {
     "data": {
      "image/png": "[encoded data removed]",
      "text/plain": [
       "<Figure size 432x288 with 1 Axes>"
      ]
     },
     "metadata": {
      "needs_background": "light"
     },
     "output_type": "display_data"
    }
   ],
   "source": [
    "print(\"Skew = \",new_df[continuous_features[11]].skew())\n",
    "sns.boxplot(data=new_df[continuous_features[11]])\n",
    "plt.title(continuous_features[11])\n",
    "plt.show()\n",
    "\n",
    "sns.distplot(new_df[continuous_features[11]],bins=50)\n",
    "plt.title(continuous_features[11])\n",
    "plt.show()"
   ]
  },
  {
   "cell_type": "markdown",
   "metadata": {},
   "source": [
    "## From the above data we can see  there are some values which are very large.we will consider that values as outliers.we will replace the values which  are >90 percentile with median value"
   ]
  },
  {
   "cell_type": "code",
   "execution_count": 208,
   "metadata": {},
   "outputs": [
    {
     "name": "stdout",
     "output_type": "stream",
     "text": [
      "Outlier= 6411.270000000008\tMedian= 214.73\n",
      "After removing outlier skew is = 2.3840909570908386\n"
     ]
    },
    {
     "data": {
      "image/png": "[encoded data removed]",
      "text/plain": [
       "<Figure size 432x288 with 1 Axes>"
      ]
     },
     "metadata": {
      "needs_background": "light"
     },
     "output_type": "display_data"
    },
    {
     "data": {
      "image/png": "[encoded data removed]",
      "text/plain": [
       "<Figure size 432x288 with 1 Axes>"
      ]
     },
     "metadata": {
      "needs_background": "light"
     },
     "output_type": "display_data"
    }
   ],
   "source": [
    "outlier=new_df[continuous_features[11]].quantile(0.90)\n",
    "median=new_df[continuous_features[11]].quantile(0.50)\n",
    "print(f'Outlier= {outlier}\\tMedian= {median}')\n",
    "new_df[continuous_features[11]] = np.where(new_df[continuous_features[11]]>outlier,median,new_df[continuous_features[11]])\n",
    "print(f'After removing outlier skew is = {new_df[continuous_features[11]].skew()}')\n",
    "sns.boxplot(data=new_df[continuous_features[11]])\n",
    "plt.title(continuous_features[11])\n",
    "plt.show()\n",
    "\n",
    "sns.distplot(new_df[continuous_features[11]],bins=50)\n",
    "plt.title(continuous_features[11])\n",
    "plt.show()"
   ]
  },
  {
   "cell_type": "code",
   "execution_count": 209,
   "metadata": {},
   "outputs": [
    {
     "name": "stdout",
     "output_type": "stream",
     "text": [
      "Skew =  30.282081620788823\n"
     ]
    },
    {
     "data": {
      "image/png": "[encoded data removed]",
      "text/plain": [
       "<Figure size 432x288 with 1 Axes>"
      ]
     },
     "metadata": {
      "needs_background": "light"
     },
     "output_type": "display_data"
    },
    {
     "data": {
      "image/png": "[encoded data removed]",
      "text/plain": [
       "<Figure size 432x288 with 1 Axes>"
      ]
     },
     "metadata": {
      "needs_background": "light"
     },
     "output_type": "display_data"
    }
   ],
   "source": [
    "print(\"Skew = \",new_df[continuous_features[12]].skew())\n",
    "sns.boxplot(data=new_df[continuous_features[12]])\n",
    "plt.title(continuous_features[12])\n",
    "plt.show()\n",
    "\n",
    "sns.distplot(new_df[continuous_features[12]],bins=50)\n",
    "plt.title(continuous_features[12])\n",
    "plt.show()"
   ]
  },
  {
   "cell_type": "code",
   "execution_count": 210,
   "metadata": {},
   "outputs": [
    {
     "data": {
      "text/plain": [
       "count    2.206700e+04\n",
       "mean     7.165418e+03\n",
       "std      1.959007e+04\n",
       "min     -3.374180e+03\n",
       "25%      2.029970e+03\n",
       "50%      3.501740e+03\n",
       "75%      6.858385e+03\n",
       "max      1.074625e+06\n",
       "Name: current_month_balance, dtype: float64"
      ]
     },
     "execution_count": 210,
     "metadata": {},
     "output_type": "execute_result"
    }
   ],
   "source": [
    "new_df[continuous_features[13]].describe()"
   ]
  },
  {
   "cell_type": "markdown",
   "metadata": {},
   "source": [
    "## From the above data we can see  there are some values which are very large.we will consider that values as outliers.we will replace the values which  are >90 percentile with median value"
   ]
  },
  {
   "cell_type": "code",
   "execution_count": 211,
   "metadata": {},
   "outputs": [
    {
     "name": "stdout",
     "output_type": "stream",
     "text": [
      "Outlier= 6605.114000000022\tMedian= 228.5\n",
      "After removing outlier skew is = 2.3705925539261994\n"
     ]
    },
    {
     "data": {
      "image/png": "[encoded data removed]",
      "text/plain": [
       "<Figure size 432x288 with 1 Axes>"
      ]
     },
     "metadata": {
      "needs_background": "light"
     },
     "output_type": "display_data"
    },
    {
     "data": {
      "image/png": "[encoded data removed]",
      "text/plain": [
       "<Figure size 432x288 with 1 Axes>"
      ]
     },
     "metadata": {
      "needs_background": "light"
     },
     "output_type": "display_data"
    }
   ],
   "source": [
    "outlier=new_df[continuous_features[12]].quantile(0.90)\n",
    "median=new_df[continuous_features[12]].quantile(0.50)\n",
    "print(f'Outlier= {outlier}\\tMedian= {median}')\n",
    "new_df[continuous_features[12]] = np.where(new_df[continuous_features[12]]>outlier,median,new_df[continuous_features[12]])\n",
    "print(f'After removing outlier skew is = {new_df[continuous_features[12]].skew()}')\n",
    "sns.boxplot(data=new_df[continuous_features[12]])\n",
    "plt.title(continuous_features[12])\n",
    "plt.show()\n",
    "\n",
    "sns.distplot(new_df[continuous_features[12]],bins=50)\n",
    "plt.title(continuous_features[12])\n",
    "plt.show()"
   ]
  },
  {
   "cell_type": "code",
   "execution_count": 212,
   "metadata": {},
   "outputs": [
    {
     "name": "stdout",
     "output_type": "stream",
     "text": [
      "Skew =  24.332138584665458\n"
     ]
    },
    {
     "data": {
      "image/png": "[encoded data removed]",
      "text/plain": [
       "<Figure size 432x288 with 1 Axes>"
      ]
     },
     "metadata": {
      "needs_background": "light"
     },
     "output_type": "display_data"
    },
    {
     "data": {
      "image/png": "[encoded data removed]",
      "text/plain": [
       "<Figure size 432x288 with 1 Axes>"
      ]
     },
     "metadata": {
      "needs_background": "light"
     },
     "output_type": "display_data"
    }
   ],
   "source": [
    "print(\"Skew = \",new_df[continuous_features[13]].skew())\n",
    "sns.boxplot(data=new_df[continuous_features[13]])\n",
    "plt.title(continuous_features[13])\n",
    "plt.show()\n",
    "\n",
    "sns.distplot(new_df[continuous_features[13]],bins=50)\n",
    "plt.title(continuous_features[13])\n",
    "plt.show()"
   ]
  },
  {
   "cell_type": "markdown",
   "metadata": {},
   "source": [
    "## From the above data we can see there are some values which are <0 and there are some values which are very large.we will consider that values as outliers.we will replace the values which are <0 with 0 and the values which are >90 percentile with median value"
   ]
  },
  {
   "cell_type": "code",
   "execution_count": 213,
   "metadata": {},
   "outputs": [
    {
     "name": "stdout",
     "output_type": "stream",
     "text": [
      "Outlier= 13516.86\tMedian= 3501.74\n",
      "After removing outlier skew is = 1.2903293509199874\n"
     ]
    },
    {
     "data": {
      "image/png": "[encoded data removed]",
      "text/plain": [
       "<Figure size 432x288 with 1 Axes>"
      ]
     },
     "metadata": {
      "needs_background": "light"
     },
     "output_type": "display_data"
    },
    {
     "data": {
      "image/png": "[encoded data removed]",
      "text/plain": [
       "<Figure size 432x288 with 1 Axes>"
      ]
     },
     "metadata": {
      "needs_background": "light"
     },
     "output_type": "display_data"
    }
   ],
   "source": [
    "outlier=new_df[continuous_features[13]].quantile(0.90)\n",
    "median=new_df[continuous_features[13]].quantile(0.50)\n",
    "print(f'Outlier= {outlier}\\tMedian= {median}')\n",
    "new_df[continuous_features[13]] = np.where(new_df[continuous_features[13]]<0,0,new_df[continuous_features[13]])\n",
    "new_df[continuous_features[13]] = np.where(new_df[continuous_features[13]]>outlier,median,new_df[continuous_features[13]])\n",
    "print(f'After removing outlier skew is = {new_df[continuous_features[13]].skew()}')\n",
    "sns.boxplot(data=new_df[continuous_features[13]])\n",
    "plt.title(continuous_features[13])\n",
    "plt.show()\n",
    "\n",
    "sns.distplot(new_df[continuous_features[13]],bins=50)\n",
    "plt.title(continuous_features[13])\n",
    "plt.show()"
   ]
  },
  {
   "cell_type": "code",
   "execution_count": 214,
   "metadata": {},
   "outputs": [
    {
     "name": "stdout",
     "output_type": "stream",
     "text": [
      "Skew =  28.77701598154453\n"
     ]
    },
    {
     "data": {
      "image/png": "[encoded data removed]",
      "text/plain": [
       "<Figure size 432x288 with 1 Axes>"
      ]
     },
     "metadata": {
      "needs_background": "light"
     },
     "output_type": "display_data"
    },
    {
     "data": {
      "image/png": "[encoded data removed]",
      "text/plain": [
       "<Figure size 432x288 with 1 Axes>"
      ]
     },
     "metadata": {
      "needs_background": "light"
     },
     "output_type": "display_data"
    }
   ],
   "source": [
    "print(\"Skew = \",new_df[continuous_features[14]].skew())\n",
    "sns.boxplot(data=new_df[continuous_features[14]])\n",
    "plt.title(continuous_features[14])\n",
    "plt.show()\n",
    "\n",
    "sns.distplot(new_df[continuous_features[14]],bins=50)\n",
    "plt.title(continuous_features[14])\n",
    "plt.show()"
   ]
  },
  {
   "cell_type": "markdown",
   "metadata": {},
   "source": [
    "## From the above data we can see there are some values which are <0 and there are some values which are very large.we will consider that values as outliers.we will replace the values which are <0 with 0 and the values which are >90 percentile with median value"
   ]
  },
  {
   "cell_type": "code",
   "execution_count": 215,
   "metadata": {},
   "outputs": [
    {
     "name": "stdout",
     "output_type": "stream",
     "text": [
      "Outlier= 13399.694000000003\tMedian= 3508.16\n",
      "After removing outlier skew is = 1.3538653192603154\n"
     ]
    },
    {
     "data": {
      "image/png": "[encoded data removed]",
      "text/plain": [
       "<Figure size 432x288 with 1 Axes>"
      ]
     },
     "metadata": {
      "needs_background": "light"
     },
     "output_type": "display_data"
    },
    {
     "data": {
      "image/png": "[encoded data removed]",
      "text/plain": [
       "<Figure size 432x288 with 1 Axes>"
      ]
     },
     "metadata": {
      "needs_background": "light"
     },
     "output_type": "display_data"
    }
   ],
   "source": [
    "outlier=new_df[continuous_features[14]].quantile(0.90)\n",
    "median=new_df[continuous_features[14]].quantile(0.50)\n",
    "print(f'Outlier= {outlier}\\tMedian= {median}')\n",
    "new_df[continuous_features[14]] = np.where(new_df[continuous_features[14]]<0,0,new_df[continuous_features[14]])\n",
    "new_df[continuous_features[14]] = np.where(new_df[continuous_features[14]]>outlier,median,new_df[continuous_features[14]])\n",
    "print(f'After removing outlier skew is = {new_df[continuous_features[14]].skew()}')\n",
    "sns.boxplot(data=new_df[continuous_features[14]])\n",
    "plt.title(continuous_features[14])\n",
    "plt.show()\n",
    "\n",
    "sns.distplot(new_df[continuous_features[14]],bins=50)\n",
    "plt.title(continuous_features[14])\n",
    "plt.show()"
   ]
  },
  {
   "cell_type": "code",
   "execution_count": 216,
   "metadata": {},
   "outputs": [
    {
     "data": {
      "text/html": [
       "<div>\n",
       "<style scoped>\n",
       "    .dataframe tbody tr th:only-of-type {\n",
       "        vertical-align: middle;\n",
       "    }\n",
       "\n",
       "    .dataframe tbody tr th {\n",
       "        vertical-align: top;\n",
       "    }\n",
       "\n",
       "    .dataframe thead th {\n",
       "        text-align: right;\n",
       "    }\n",
       "</style>\n",
       "<table border=\"1\" class=\"dataframe\">\n",
       "  <thead>\n",
       "    <tr style=\"text-align: right;\">\n",
       "      <th></th>\n",
       "      <th>vintage</th>\n",
       "      <th>age</th>\n",
       "      <th>dependents</th>\n",
       "      <th>city</th>\n",
       "      <th>customer_nw_category</th>\n",
       "      <th>branch_code</th>\n",
       "      <th>days_since_last_transaction</th>\n",
       "      <th>current_balance</th>\n",
       "      <th>previous_month_end_balance</th>\n",
       "      <th>average_monthly_balance_prevQ</th>\n",
       "      <th>average_monthly_balance_prevQ2</th>\n",
       "      <th>current_month_credit</th>\n",
       "      <th>previous_month_credit</th>\n",
       "      <th>current_month_debit</th>\n",
       "      <th>previous_month_debit</th>\n",
       "      <th>current_month_balance</th>\n",
       "      <th>previous_month_balance</th>\n",
       "      <th>churn</th>\n",
       "      <th>x0_Male</th>\n",
       "      <th>x1_retired</th>\n",
       "      <th>x1_salaried</th>\n",
       "      <th>x1_self_employed</th>\n",
       "      <th>x1_student</th>\n",
       "    </tr>\n",
       "  </thead>\n",
       "  <tbody>\n",
       "    <tr>\n",
       "      <th>0</th>\n",
       "      <td>3135.0</td>\n",
       "      <td>66</td>\n",
       "      <td>0.0</td>\n",
       "      <td>187.0</td>\n",
       "      <td>2</td>\n",
       "      <td>755</td>\n",
       "      <td>28.0</td>\n",
       "      <td>1458.71</td>\n",
       "      <td>1458.71</td>\n",
       "      <td>1458.71</td>\n",
       "      <td>1449.07</td>\n",
       "      <td>0.20</td>\n",
       "      <td>0.20</td>\n",
       "      <td>0.20</td>\n",
       "      <td>0.20</td>\n",
       "      <td>1458.71</td>\n",
       "      <td>1458.71</td>\n",
       "      <td>0</td>\n",
       "      <td>1.0</td>\n",
       "      <td>0.0</td>\n",
       "      <td>0.0</td>\n",
       "      <td>1.0</td>\n",
       "      <td>0.0</td>\n",
       "    </tr>\n",
       "    <tr>\n",
       "      <th>1</th>\n",
       "      <td>2531.0</td>\n",
       "      <td>42</td>\n",
       "      <td>2.0</td>\n",
       "      <td>1494.0</td>\n",
       "      <td>3</td>\n",
       "      <td>388</td>\n",
       "      <td>58.0</td>\n",
       "      <td>927.72</td>\n",
       "      <td>1401.72</td>\n",
       "      <td>1643.31</td>\n",
       "      <td>1871.12</td>\n",
       "      <td>0.33</td>\n",
       "      <td>714.61</td>\n",
       "      <td>588.62</td>\n",
       "      <td>1538.06</td>\n",
       "      <td>1157.15</td>\n",
       "      <td>1677.16</td>\n",
       "      <td>1</td>\n",
       "      <td>1.0</td>\n",
       "      <td>0.0</td>\n",
       "      <td>0.0</td>\n",
       "      <td>1.0</td>\n",
       "      <td>0.0</td>\n",
       "    </tr>\n",
       "    <tr>\n",
       "      <th>2</th>\n",
       "      <td>263.0</td>\n",
       "      <td>42</td>\n",
       "      <td>0.0</td>\n",
       "      <td>1096.0</td>\n",
       "      <td>2</td>\n",
       "      <td>1666</td>\n",
       "      <td>60.0</td>\n",
       "      <td>3335.44</td>\n",
       "      <td>3426.74</td>\n",
       "      <td>3592.88</td>\n",
       "      <td>3380.69</td>\n",
       "      <td>0.36</td>\n",
       "      <td>0.36</td>\n",
       "      <td>857.50</td>\n",
       "      <td>286.07</td>\n",
       "      <td>3501.74</td>\n",
       "      <td>3508.16</td>\n",
       "      <td>0</td>\n",
       "      <td>0.0</td>\n",
       "      <td>0.0</td>\n",
       "      <td>0.0</td>\n",
       "      <td>1.0</td>\n",
       "      <td>0.0</td>\n",
       "    </tr>\n",
       "    <tr>\n",
       "      <th>3</th>\n",
       "      <td>2202.0</td>\n",
       "      <td>72</td>\n",
       "      <td>0.0</td>\n",
       "      <td>1020.0</td>\n",
       "      <td>1</td>\n",
       "      <td>1</td>\n",
       "      <td>98.0</td>\n",
       "      <td>7006.93</td>\n",
       "      <td>7714.19</td>\n",
       "      <td>7859.74</td>\n",
       "      <td>11232.37</td>\n",
       "      <td>0.64</td>\n",
       "      <td>0.64</td>\n",
       "      <td>1299.64</td>\n",
       "      <td>439.26</td>\n",
       "      <td>7076.06</td>\n",
       "      <td>7755.98</td>\n",
       "      <td>0</td>\n",
       "      <td>1.0</td>\n",
       "      <td>1.0</td>\n",
       "      <td>0.0</td>\n",
       "      <td>0.0</td>\n",
       "      <td>0.0</td>\n",
       "    </tr>\n",
       "    <tr>\n",
       "      <th>4</th>\n",
       "      <td>1145.0</td>\n",
       "      <td>46</td>\n",
       "      <td>0.0</td>\n",
       "      <td>623.0</td>\n",
       "      <td>2</td>\n",
       "      <td>317</td>\n",
       "      <td>28.0</td>\n",
       "      <td>10096.58</td>\n",
       "      <td>8519.53</td>\n",
       "      <td>6511.82</td>\n",
       "      <td>3380.69</td>\n",
       "      <td>0.27</td>\n",
       "      <td>0.27</td>\n",
       "      <td>443.13</td>\n",
       "      <td>5688.44</td>\n",
       "      <td>8563.84</td>\n",
       "      <td>5317.04</td>\n",
       "      <td>0</td>\n",
       "      <td>1.0</td>\n",
       "      <td>0.0</td>\n",
       "      <td>0.0</td>\n",
       "      <td>1.0</td>\n",
       "      <td>0.0</td>\n",
       "    </tr>\n",
       "  </tbody>\n",
       "</table>\n",
       "</div>"
      ],
      "text/plain": [
       "   vintage  age  dependents    city  customer_nw_category  branch_code  \\\n",
       "0   3135.0   66         0.0   187.0                     2          755   \n",
       "1   2531.0   42         2.0  1494.0                     3          388   \n",
       "2    263.0   42         0.0  1096.0                     2         1666   \n",
       "3   2202.0   72         0.0  1020.0                     1            1   \n",
       "4   1145.0   46         0.0   623.0                     2          317   \n",
       "\n",
       "   days_since_last_transaction  current_balance  previous_month_end_balance  \\\n",
       "0                         28.0          1458.71                     1458.71   \n",
       "1                         58.0           927.72                     1401.72   \n",
       "2                         60.0          3335.44                     3426.74   \n",
       "3                         98.0          7006.93                     7714.19   \n",
       "4                         28.0         10096.58                     8519.53   \n",
       "\n",
       "   average_monthly_balance_prevQ  average_monthly_balance_prevQ2  \\\n",
       "0                        1458.71                         1449.07   \n",
       "1                        1643.31                         1871.12   \n",
       "2                        3592.88                         3380.69   \n",
       "3                        7859.74                        11232.37   \n",
       "4                        6511.82                         3380.69   \n",
       "\n",
       "   current_month_credit  previous_month_credit  current_month_debit  \\\n",
       "0                  0.20                   0.20                 0.20   \n",
       "1                  0.33                 714.61               588.62   \n",
       "2                  0.36                   0.36               857.50   \n",
       "3                  0.64                   0.64              1299.64   \n",
       "4                  0.27                   0.27               443.13   \n",
       "\n",
       "   previous_month_debit  current_month_balance  previous_month_balance  churn  \\\n",
       "0                  0.20                1458.71                 1458.71      0   \n",
       "1               1538.06                1157.15                 1677.16      1   \n",
       "2                286.07                3501.74                 3508.16      0   \n",
       "3                439.26                7076.06                 7755.98      0   \n",
       "4               5688.44                8563.84                 5317.04      0   \n",
       "\n",
       "   x0_Male  x1_retired  x1_salaried  x1_self_employed  x1_student  \n",
       "0      1.0         0.0          0.0               1.0         0.0  \n",
       "1      1.0         0.0          0.0               1.0         0.0  \n",
       "2      0.0         0.0          0.0               1.0         0.0  \n",
       "3      1.0         1.0          0.0               0.0         0.0  \n",
       "4      1.0         0.0          0.0               1.0         0.0  "
      ]
     },
     "execution_count": 216,
     "metadata": {},
     "output_type": "execute_result"
    }
   ],
   "source": [
    "new_df.head()"
   ]
  },
  {
   "cell_type": "code",
   "execution_count": 217,
   "metadata": {},
   "outputs": [
    {
     "data": {
      "text/html": [
       "<div>\n",
       "<style scoped>\n",
       "    .dataframe tbody tr th:only-of-type {\n",
       "        vertical-align: middle;\n",
       "    }\n",
       "\n",
       "    .dataframe tbody tr th {\n",
       "        vertical-align: top;\n",
       "    }\n",
       "\n",
       "    .dataframe thead th {\n",
       "        text-align: right;\n",
       "    }\n",
       "</style>\n",
       "<table border=\"1\" class=\"dataframe\">\n",
       "  <thead>\n",
       "    <tr style=\"text-align: right;\">\n",
       "      <th></th>\n",
       "      <th>vintage</th>\n",
       "      <th>age</th>\n",
       "      <th>dependents</th>\n",
       "      <th>city</th>\n",
       "      <th>customer_nw_category</th>\n",
       "      <th>branch_code</th>\n",
       "      <th>days_since_last_transaction</th>\n",
       "      <th>current_balance</th>\n",
       "      <th>previous_month_end_balance</th>\n",
       "      <th>average_monthly_balance_prevQ</th>\n",
       "      <th>average_monthly_balance_prevQ2</th>\n",
       "      <th>current_month_credit</th>\n",
       "      <th>previous_month_credit</th>\n",
       "      <th>current_month_debit</th>\n",
       "      <th>previous_month_debit</th>\n",
       "      <th>current_month_balance</th>\n",
       "      <th>previous_month_balance</th>\n",
       "      <th>churn</th>\n",
       "      <th>x0_Male</th>\n",
       "      <th>x1_retired</th>\n",
       "      <th>x1_salaried</th>\n",
       "      <th>x1_self_employed</th>\n",
       "      <th>x1_student</th>\n",
       "    </tr>\n",
       "  </thead>\n",
       "  <tbody>\n",
       "    <tr>\n",
       "      <th>count</th>\n",
       "      <td>22067.000000</td>\n",
       "      <td>22067.000000</td>\n",
       "      <td>22067.000000</td>\n",
       "      <td>22067.000000</td>\n",
       "      <td>22067.000000</td>\n",
       "      <td>22067.000000</td>\n",
       "      <td>22067.000000</td>\n",
       "      <td>22067.000000</td>\n",
       "      <td>22067.000000</td>\n",
       "      <td>22067.000000</td>\n",
       "      <td>22067.000000</td>\n",
       "      <td>22067.000000</td>\n",
       "      <td>22067.000000</td>\n",
       "      <td>22067.000000</td>\n",
       "      <td>22067.000000</td>\n",
       "      <td>22067.000000</td>\n",
       "      <td>22067.000000</td>\n",
       "      <td>22067.000000</td>\n",
       "      <td>22067.000000</td>\n",
       "      <td>22067.000000</td>\n",
       "      <td>22067.000000</td>\n",
       "      <td>22067.000000</td>\n",
       "      <td>22067.000000</td>\n",
       "    </tr>\n",
       "    <tr>\n",
       "      <th>mean</th>\n",
       "      <td>2184.913808</td>\n",
       "      <td>47.931345</td>\n",
       "      <td>0.377487</td>\n",
       "      <td>800.318575</td>\n",
       "      <td>2.211991</td>\n",
       "      <td>874.440975</td>\n",
       "      <td>29.907917</td>\n",
       "      <td>3819.997337</td>\n",
       "      <td>3910.939667</td>\n",
       "      <td>4144.626813</td>\n",
       "      <td>3782.304877</td>\n",
       "      <td>434.259003</td>\n",
       "      <td>493.669993</td>\n",
       "      <td>696.277258</td>\n",
       "      <td>726.005157</td>\n",
       "      <td>3988.505980</td>\n",
       "      <td>4022.491892</td>\n",
       "      <td>0.193683</td>\n",
       "      <td>0.608193</td>\n",
       "      <td>0.074228</td>\n",
       "      <td>0.253863</td>\n",
       "      <td>0.608782</td>\n",
       "      <td>0.062038</td>\n",
       "    </tr>\n",
       "    <tr>\n",
       "      <th>std</th>\n",
       "      <td>1149.789381</td>\n",
       "      <td>16.393352</td>\n",
       "      <td>1.044629</td>\n",
       "      <td>431.454448</td>\n",
       "      <td>0.669556</td>\n",
       "      <td>904.244526</td>\n",
       "      <td>26.117935</td>\n",
       "      <td>2897.050478</td>\n",
       "      <td>2839.821232</td>\n",
       "      <td>2600.227511</td>\n",
       "      <td>2725.916417</td>\n",
       "      <td>909.413732</td>\n",
       "      <td>1027.868606</td>\n",
       "      <td>1211.603032</td>\n",
       "      <td>1265.218278</td>\n",
       "      <td>2747.804654</td>\n",
       "      <td>2707.308766</td>\n",
       "      <td>0.395192</td>\n",
       "      <td>0.488165</td>\n",
       "      <td>0.262148</td>\n",
       "      <td>0.435230</td>\n",
       "      <td>0.488034</td>\n",
       "      <td>0.241231</td>\n",
       "    </tr>\n",
       "    <tr>\n",
       "      <th>min</th>\n",
       "      <td>180.000000</td>\n",
       "      <td>1.000000</td>\n",
       "      <td>0.000000</td>\n",
       "      <td>0.000000</td>\n",
       "      <td>1.000000</td>\n",
       "      <td>1.000000</td>\n",
       "      <td>0.000000</td>\n",
       "      <td>0.000000</td>\n",
       "      <td>0.000000</td>\n",
       "      <td>1428.690000</td>\n",
       "      <td>0.000000</td>\n",
       "      <td>0.010000</td>\n",
       "      <td>0.010000</td>\n",
       "      <td>0.010000</td>\n",
       "      <td>0.010000</td>\n",
       "      <td>0.000000</td>\n",
       "      <td>0.000000</td>\n",
       "      <td>0.000000</td>\n",
       "      <td>0.000000</td>\n",
       "      <td>0.000000</td>\n",
       "      <td>0.000000</td>\n",
       "      <td>0.000000</td>\n",
       "      <td>0.000000</td>\n",
       "    </tr>\n",
       "    <tr>\n",
       "      <th>25%</th>\n",
       "      <td>1321.000000</td>\n",
       "      <td>36.000000</td>\n",
       "      <td>0.000000</td>\n",
       "      <td>409.000000</td>\n",
       "      <td>2.000000</td>\n",
       "      <td>159.000000</td>\n",
       "      <td>11.000000</td>\n",
       "      <td>1784.445000</td>\n",
       "      <td>1906.485000</td>\n",
       "      <td>2209.835000</td>\n",
       "      <td>1817.980000</td>\n",
       "      <td>0.360000</td>\n",
       "      <td>0.370000</td>\n",
       "      <td>0.470000</td>\n",
       "      <td>0.490000</td>\n",
       "      <td>2029.970000</td>\n",
       "      <td>2090.665000</td>\n",
       "      <td>0.000000</td>\n",
       "      <td>0.000000</td>\n",
       "      <td>0.000000</td>\n",
       "      <td>0.000000</td>\n",
       "      <td>0.000000</td>\n",
       "      <td>0.000000</td>\n",
       "    </tr>\n",
       "    <tr>\n",
       "      <th>50%</th>\n",
       "      <td>2202.000000</td>\n",
       "      <td>46.000000</td>\n",
       "      <td>0.000000</td>\n",
       "      <td>848.000000</td>\n",
       "      <td>2.000000</td>\n",
       "      <td>531.000000</td>\n",
       "      <td>28.000000</td>\n",
       "      <td>3335.440000</td>\n",
       "      <td>3426.740000</td>\n",
       "      <td>3592.880000</td>\n",
       "      <td>3380.690000</td>\n",
       "      <td>1.130000</td>\n",
       "      <td>6.440000</td>\n",
       "      <td>214.730000</td>\n",
       "      <td>228.500000</td>\n",
       "      <td>3501.740000</td>\n",
       "      <td>3508.160000</td>\n",
       "      <td>0.000000</td>\n",
       "      <td>1.000000</td>\n",
       "      <td>0.000000</td>\n",
       "      <td>0.000000</td>\n",
       "      <td>1.000000</td>\n",
       "      <td>0.000000</td>\n",
       "    </tr>\n",
       "    <tr>\n",
       "      <th>75%</th>\n",
       "      <td>2828.000000</td>\n",
       "      <td>60.000000</td>\n",
       "      <td>0.000000</td>\n",
       "      <td>1096.000000</td>\n",
       "      <td>3.000000</td>\n",
       "      <td>1374.000000</td>\n",
       "      <td>35.000000</td>\n",
       "      <td>4987.515000</td>\n",
       "      <td>5035.470000</td>\n",
       "      <td>5114.305000</td>\n",
       "      <td>4883.865000</td>\n",
       "      <td>386.170000</td>\n",
       "      <td>450.845000</td>\n",
       "      <td>763.210000</td>\n",
       "      <td>784.950000</td>\n",
       "      <td>5102.195000</td>\n",
       "      <td>5046.590000</td>\n",
       "      <td>0.000000</td>\n",
       "      <td>1.000000</td>\n",
       "      <td>0.000000</td>\n",
       "      <td>1.000000</td>\n",
       "      <td>1.000000</td>\n",
       "      <td>0.000000</td>\n",
       "    </tr>\n",
       "    <tr>\n",
       "      <th>max</th>\n",
       "      <td>4989.000000</td>\n",
       "      <td>90.000000</td>\n",
       "      <td>52.000000</td>\n",
       "      <td>1649.000000</td>\n",
       "      <td>3.000000</td>\n",
       "      <td>4782.000000</td>\n",
       "      <td>115.000000</td>\n",
       "      <td>13967.500000</td>\n",
       "      <td>13778.700000</td>\n",
       "      <td>13265.170000</td>\n",
       "      <td>12889.880000</td>\n",
       "      <td>4909.430000</td>\n",
       "      <td>5619.690000</td>\n",
       "      <td>6409.110000</td>\n",
       "      <td>6599.030000</td>\n",
       "      <td>13516.660000</td>\n",
       "      <td>13398.730000</td>\n",
       "      <td>1.000000</td>\n",
       "      <td>1.000000</td>\n",
       "      <td>1.000000</td>\n",
       "      <td>1.000000</td>\n",
       "      <td>1.000000</td>\n",
       "      <td>1.000000</td>\n",
       "    </tr>\n",
       "  </tbody>\n",
       "</table>\n",
       "</div>"
      ],
      "text/plain": [
       "            vintage           age    dependents          city  \\\n",
       "count  22067.000000  22067.000000  22067.000000  22067.000000   \n",
       "mean    2184.913808     47.931345      0.377487    800.318575   \n",
       "std     1149.789381     16.393352      1.044629    431.454448   \n",
       "min      180.000000      1.000000      0.000000      0.000000   \n",
       "25%     1321.000000     36.000000      0.000000    409.000000   \n",
       "50%     2202.000000     46.000000      0.000000    848.000000   \n",
       "75%     2828.000000     60.000000      0.000000   1096.000000   \n",
       "max     4989.000000     90.000000     52.000000   1649.000000   \n",
       "\n",
       "       customer_nw_category   branch_code  days_since_last_transaction  \\\n",
       "count          22067.000000  22067.000000                 22067.000000   \n",
       "mean               2.211991    874.440975                    29.907917   \n",
       "std                0.669556    904.244526                    26.117935   \n",
       "min                1.000000      1.000000                     0.000000   \n",
       "25%                2.000000    159.000000                    11.000000   \n",
       "50%                2.000000    531.000000                    28.000000   \n",
       "75%                3.000000   1374.000000                    35.000000   \n",
       "max                3.000000   4782.000000                   115.000000   \n",
       "\n",
       "       current_balance  previous_month_end_balance  \\\n",
       "count     22067.000000                22067.000000   \n",
       "mean       3819.997337                 3910.939667   \n",
       "std        2897.050478                 2839.821232   \n",
       "min           0.000000                    0.000000   \n",
       "25%        1784.445000                 1906.485000   \n",
       "50%        3335.440000                 3426.740000   \n",
       "75%        4987.515000                 5035.470000   \n",
       "max       13967.500000                13778.700000   \n",
       "\n",
       "       average_monthly_balance_prevQ  average_monthly_balance_prevQ2  \\\n",
       "count                   22067.000000                    22067.000000   \n",
       "mean                     4144.626813                     3782.304877   \n",
       "std                      2600.227511                     2725.916417   \n",
       "min                      1428.690000                        0.000000   \n",
       "25%                      2209.835000                     1817.980000   \n",
       "50%                      3592.880000                     3380.690000   \n",
       "75%                      5114.305000                     4883.865000   \n",
       "max                     13265.170000                    12889.880000   \n",
       "\n",
       "       current_month_credit  previous_month_credit  current_month_debit  \\\n",
       "count          22067.000000           22067.000000         22067.000000   \n",
       "mean             434.259003             493.669993           696.277258   \n",
       "std              909.413732            1027.868606          1211.603032   \n",
       "min                0.010000               0.010000             0.010000   \n",
       "25%                0.360000               0.370000             0.470000   \n",
       "50%                1.130000               6.440000           214.730000   \n",
       "75%              386.170000             450.845000           763.210000   \n",
       "max             4909.430000            5619.690000          6409.110000   \n",
       "\n",
       "       previous_month_debit  current_month_balance  previous_month_balance  \\\n",
       "count          22067.000000           22067.000000            22067.000000   \n",
       "mean             726.005157            3988.505980             4022.491892   \n",
       "std             1265.218278            2747.804654             2707.308766   \n",
       "min                0.010000               0.000000                0.000000   \n",
       "25%                0.490000            2029.970000             2090.665000   \n",
       "50%              228.500000            3501.740000             3508.160000   \n",
       "75%              784.950000            5102.195000             5046.590000   \n",
       "max             6599.030000           13516.660000            13398.730000   \n",
       "\n",
       "              churn       x0_Male    x1_retired   x1_salaried  \\\n",
       "count  22067.000000  22067.000000  22067.000000  22067.000000   \n",
       "mean       0.193683      0.608193      0.074228      0.253863   \n",
       "std        0.395192      0.488165      0.262148      0.435230   \n",
       "min        0.000000      0.000000      0.000000      0.000000   \n",
       "25%        0.000000      0.000000      0.000000      0.000000   \n",
       "50%        0.000000      1.000000      0.000000      0.000000   \n",
       "75%        0.000000      1.000000      0.000000      1.000000   \n",
       "max        1.000000      1.000000      1.000000      1.000000   \n",
       "\n",
       "       x1_self_employed    x1_student  \n",
       "count      22067.000000  22067.000000  \n",
       "mean           0.608782      0.062038  \n",
       "std            0.488034      0.241231  \n",
       "min            0.000000      0.000000  \n",
       "25%            0.000000      0.000000  \n",
       "50%            1.000000      0.000000  \n",
       "75%            1.000000      0.000000  \n",
       "max            1.000000      1.000000  "
      ]
     },
     "execution_count": 217,
     "metadata": {},
     "output_type": "execute_result"
    }
   ],
   "source": [
    "new_df.describe()"
   ]
  },
  {
   "cell_type": "markdown",
   "metadata": {},
   "source": [
    "## checking is the dataset is balanced or imblanced ?"
   ]
  },
  {
   "cell_type": "code",
   "execution_count": 218,
   "metadata": {},
   "outputs": [
    {
     "data": {
      "image/png": "[encoded data removed]",
      "text/plain": [
       "<Figure size 432x288 with 1 Axes>"
      ]
     },
     "metadata": {
      "needs_background": "light"
     },
     "output_type": "display_data"
    },
    {
     "name": "stdout",
     "output_type": "stream",
     "text": [
      "Total no of 0 is : 17793 and total no of 1 is : 4274\n"
     ]
    }
   ],
   "source": [
    "#Display class count\n",
    "sns.countplot(x=new_df['churn'])\n",
    "plt.xticks(size=20)\n",
    "plt.xlabel('Churn',fontsize=17)\n",
    "plt.ylabel('Count', fontsize=17)\n",
    "plt.show()\n",
    "\n",
    "\n",
    "print(f'Total no of 0 is : {new_df[\"churn\"].value_counts()[0]} and total no of 1 is : {new_df[\"churn\"].value_counts()[1]}')"
   ]
  },
  {
   "cell_type": "markdown",
   "metadata": {},
   "source": [
    "## from the above count plot it is clear that the dataset is imblanced.To balanced the data set we will use two stretagy 1)Upsampling 2)Downsampling"
   ]
  },
  {
   "cell_type": "code",
   "execution_count": 219,
   "metadata": {},
   "outputs": [],
   "source": [
    "models = []\n",
    "models.append(('SVM', SVC()))\n",
    "models.append(('LR', LogisticRegression(max_iter=1000)))\n",
    "models.append(('KNN', KNeighborsClassifier()))\n",
    "models.append(('DTC', DecisionTreeClassifier()))\n",
    "models.append(('RF', RandomForestClassifier()))\n",
    "models.append(('NB', GaussianNB()))"
   ]
  },
  {
   "cell_type": "markdown",
   "metadata": {},
   "source": [
    "# Checking accuracy with imblance dataset"
   ]
  },
  {
   "cell_type": "code",
   "execution_count": 220,
   "metadata": {},
   "outputs": [],
   "source": [
    "y=new_df['churn']\n",
    "X=new_df.drop(['churn'],axis=1)\n",
    "X_train, X_test, y_train, y_test = train_test_split(X, y, test_size=0.33, random_state=42)"
   ]
  },
  {
   "cell_type": "code",
   "execution_count": 221,
   "metadata": {},
   "outputs": [],
   "source": [
    "accuracy=[]\n",
    "accuracy_prob=[]\n",
    "for model in models:\n",
    "    model[1].fit(X_train,y_train)\n",
    "    prediction = model[1].predict(X_train)\n",
    "    #acc_prob = model[1].predict_proba(X_train)\n",
    "    #acc_prob = [p[1] for p in acc_prob]\n",
    "    accuracy.append(accuracy_score(y_train,prediction))\n",
    "    accuracy_prob.append(roc_auc_score(y_train,prediction))"
   ]
  },
  {
   "cell_type": "code",
   "execution_count": 222,
   "metadata": {},
   "outputs": [
    {
     "name": "stdout",
     "output_type": "stream",
     "text": [
      "Model name:SVM\taccuracy is: 0.847\troc_auc_score is:0.637\n",
      "Model name:LR\taccuracy is: 0.825\troc_auc_score is:0.579\n",
      "Model name:KNN\taccuracy is: 0.87\troc_auc_score is:0.713\n",
      "Model name:DTC\taccuracy is: 1.0\troc_auc_score is:1.0\n",
      "Model name:RF\taccuracy is: 1.0\troc_auc_score is:1.0\n",
      "Model name:NB\taccuracy is: 0.781\troc_auc_score is:0.575\n"
     ]
    }
   ],
   "source": [
    "for model,acc,roc_auc in zip(models,accuracy,accuracy_prob):\n",
    "    print(f'Model name:{model[0]}\\taccuracy is: {acc.round(3)}\\troc_auc_score is:{roc_auc.round(3)}')"
   ]
  },
  {
   "cell_type": "markdown",
   "metadata": {},
   "source": [
    "## It is clear that roc_auc_score of models are very low than accuracy of model.Let's see after performing upsampling and downsampling the accuracy and roc_auc_score of models"
   ]
  },
  {
   "cell_type": "markdown",
   "metadata": {},
   "source": [
    "# Upsampling minority class"
   ]
  },
  {
   "cell_type": "code",
   "execution_count": 223,
   "metadata": {},
   "outputs": [],
   "source": [
    "# seperating minority and majority class\n",
    "df_minority = new_df[new_df['churn']==1]\n",
    "df_majority = new_df[new_df['churn']==0]\n",
    "\n",
    "#upsampling minority class\n",
    "df_minority_upsampled = resample(df_minority,\n",
    "                                replace = True,\n",
    "                                n_samples = len(df_majority),\n",
    "                                random_state=123)\n",
    "\n",
    "#combine majority class with upsampled minority class\n",
    "df_upsampled = pd.concat([df_majority,df_minority_upsampled])\n"
   ]
  },
  {
   "cell_type": "code",
   "execution_count": 224,
   "metadata": {},
   "outputs": [
    {
     "data": {
      "image/png": "[encoded data removed]",
      "text/plain": [
       "<Figure size 432x288 with 1 Axes>"
      ]
     },
     "metadata": {
      "needs_background": "light"
     },
     "output_type": "display_data"
    },
    {
     "name": "stdout",
     "output_type": "stream",
     "text": [
      "Total no of 0 is : 17793 and total no of 1 is : 17793\n"
     ]
    }
   ],
   "source": [
    "#Display new class count\n",
    "sns.countplot(x=df_upsampled['churn'])\n",
    "plt.xticks(size=20)\n",
    "plt.xlabel('Churn',fontsize=17)\n",
    "plt.ylabel('Count', fontsize=17)\n",
    "plt.show()\n",
    "\n",
    "print(f'Total no of 0 is : {df_upsampled[\"churn\"].value_counts()[0]} and total no of 1 is : {df_upsampled[\"churn\"].value_counts()[1]}')"
   ]
  },
  {
   "cell_type": "code",
   "execution_count": 225,
   "metadata": {},
   "outputs": [],
   "source": [
    "y=df_upsampled['churn']\n",
    "X=df_upsampled.drop(['churn'],axis=1)\n",
    "X_train, X_test, y_train, y_test = train_test_split(X, y, test_size=0.33, random_state=42)"
   ]
  },
  {
   "cell_type": "code",
   "execution_count": 226,
   "metadata": {},
   "outputs": [],
   "source": [
    "models = []\n",
    "models.append(('SVM', SVC()))\n",
    "models.append(('LR', LogisticRegression(max_iter=1000)))\n",
    "models.append(('KNN', KNeighborsClassifier()))\n",
    "models.append(('DTC', DecisionTreeClassifier()))\n",
    "models.append(('RF', RandomForestClassifier()))\n",
    "models.append(('NB', GaussianNB()))"
   ]
  },
  {
   "cell_type": "code",
   "execution_count": 227,
   "metadata": {},
   "outputs": [],
   "source": [
    "accuracy=[]\n",
    "accuracy_prob=[]\n",
    "for model in models:\n",
    "    model[1].fit(X_train,y_train)\n",
    "    prediction = model[1].predict(X_train)\n",
    "    #acc_prob = model[1].predict_proba(X_train)\n",
    "    #acc_prob = [p[1] for p in acc_prob]\n",
    "    accuracy.append(accuracy_score(y_train,prediction))\n",
    "    accuracy_prob.append(roc_auc_score(y_train,prediction))"
   ]
  },
  {
   "cell_type": "code",
   "execution_count": 228,
   "metadata": {},
   "outputs": [
    {
     "name": "stdout",
     "output_type": "stream",
     "text": [
      "Model name:SVM\taccuracy is: 0.762\troc_auc_score is:0.762\n",
      "Model name:LR\taccuracy is: 0.718\troc_auc_score is:0.718\n",
      "Model name:KNN\taccuracy is: 0.866\troc_auc_score is:0.866\n",
      "Model name:DTC\taccuracy is: 1.0\troc_auc_score is:1.0\n",
      "Model name:RF\taccuracy is: 1.0\troc_auc_score is:1.0\n",
      "Model name:NB\taccuracy is: 0.657\troc_auc_score is:0.657\n"
     ]
    }
   ],
   "source": [
    "for model,acc,roc_auc in zip(models,accuracy,accuracy_prob):\n",
    "    print(f'Model name:{model[0]}\\taccuracy is: {acc.round(3)}\\troc_auc_score is:{roc_auc.round(3)}')"
   ]
  },
  {
   "cell_type": "markdown",
   "metadata": {},
   "source": [
    "# Downsampling majority class"
   ]
  },
  {
   "cell_type": "code",
   "execution_count": 229,
   "metadata": {},
   "outputs": [],
   "source": [
    "# seperating minority and majority class\n",
    "df_minority = new_df[new_df['churn']==1]\n",
    "df_majority = new_df[new_df['churn']==0]\n",
    "\n",
    "#upsampling minority class\n",
    "df_majority_downsampled = resample(df_majority,\n",
    "                                replace = True,\n",
    "                                n_samples = len(df_minority),\n",
    "                                random_state=123)\n",
    "\n",
    "#combine majority class with upsampled minority class\n",
    "df_downsampled = pd.concat([df_minority,df_majority_downsampled])\n"
   ]
  },
  {
   "cell_type": "code",
   "execution_count": 230,
   "metadata": {},
   "outputs": [
    {
     "data": {
      "image/png": "[encoded data removed]",
      "text/plain": [
       "<Figure size 432x288 with 1 Axes>"
      ]
     },
     "metadata": {
      "needs_background": "light"
     },
     "output_type": "display_data"
    },
    {
     "name": "stdout",
     "output_type": "stream",
     "text": [
      "Total no of 0 is : 4274 and total no of 1 is : 4274\n"
     ]
    }
   ],
   "source": [
    "#Display new class count\n",
    "sns.countplot(x=df_downsampled['churn'])\n",
    "plt.xticks(size=20)\n",
    "plt.xlabel('Churn',fontsize=17)\n",
    "plt.ylabel('Count', fontsize=17)\n",
    "plt.show()\n",
    "\n",
    "print(f'Total no of 0 is : {df_downsampled[\"churn\"].value_counts()[0]} and total no of 1 is : {df_downsampled[\"churn\"].value_counts()[1]}')"
   ]
  },
  {
   "cell_type": "code",
   "execution_count": 231,
   "metadata": {},
   "outputs": [],
   "source": [
    "y=df_downsampled['churn']\n",
    "X=df_downsampled.drop(['churn'],axis=1)\n",
    "X_train, X_test, y_train, y_test = train_test_split(X, y, test_size=0.33, random_state=42)"
   ]
  },
  {
   "cell_type": "code",
   "execution_count": 232,
   "metadata": {},
   "outputs": [],
   "source": [
    "accuracy=[]\n",
    "accuracy_prob=[]\n",
    "for model in models:\n",
    "    model[1].fit(X_train,y_train)\n",
    "    prediction = model[1].predict(X_train)\n",
    "    #acc_prob = model[1].predict_proba(X_train)\n",
    "    #acc_prob = [p[1] for p in acc_prob]\n",
    "    accuracy.append(accuracy_score(y_train,prediction))\n",
    "    accuracy_prob.append(roc_auc_score(y_train,prediction))"
   ]
  },
  {
   "cell_type": "code",
   "execution_count": 233,
   "metadata": {},
   "outputs": [
    {
     "name": "stdout",
     "output_type": "stream",
     "text": [
      "Model name:SVM\taccuracy is: 0.752\troc_auc_score is:0.752\n",
      "Model name:LR\taccuracy is: 0.719\troc_auc_score is:0.718\n",
      "Model name:KNN\taccuracy is: 0.793\troc_auc_score is:0.793\n",
      "Model name:DTC\taccuracy is: 1.0\troc_auc_score is:1.0\n",
      "Model name:RF\taccuracy is: 1.0\troc_auc_score is:1.0\n",
      "Model name:NB\taccuracy is: 0.655\troc_auc_score is:0.655\n"
     ]
    }
   ],
   "source": [
    "for model,acc,roc_auc in zip(models,accuracy,accuracy_prob):\n",
    "    print(f'Model name:{model[0]}\\taccuracy is: {acc.round(3)}\\troc_auc_score is:{roc_auc.round(3)}')"
   ]
  },
  {
   "cell_type": "markdown",
   "metadata": {},
   "source": [
    "## after performing upsampling and downsampling we can see that upsampeling gives better roc_auc_score in all the models than downsample"
   ]
  },
  {
   "cell_type": "code",
   "execution_count": null,
   "metadata": {},
   "outputs": [],
   "source": []
  }
 ],
 "metadata": {
  "kernelspec": {
   "display_name": "Python 3",
   "language": "python",
   "name": "python3"
  },
  "language_info": {
   "codemirror_mode": {
    "name": "ipython",
    "version": 3
   },
   "file_extension": ".py",
   "mimetype": "text/x-python",
   "name": "python",
   "nbconvert_exporter": "python",
   "pygments_lexer": "ipython3",
   "version": "3.7.6"
  }
 },
 "nbformat": 4,
 "nbformat_minor": 4
}
